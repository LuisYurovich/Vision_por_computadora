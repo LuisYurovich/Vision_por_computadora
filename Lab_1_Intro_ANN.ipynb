{
  "nbformat": 4,
  "nbformat_minor": 0,
  "metadata": {
    "colab": {
      "provenance": [],
      "collapsed_sections": [],
      "include_colab_link": true
    },
    "kernelspec": {
      "display_name": "Python 3",
      "name": "python3"
    },
    "accelerator": "GPU",
    "gpuClass": "standard"
  },
  "cells": [
    {
      "cell_type": "markdown",
      "metadata": {
        "id": "view-in-github",
        "colab_type": "text"
      },
      "source": [
        "<a href=\"https://colab.research.google.com/github/LuisYurovich/Vision_por_computadora/blob/main/Lab_1_Intro_ANN.ipynb\" target=\"_parent\"><img src=\"https://colab.research.google.com/assets/colab-badge.svg\" alt=\"Open In Colab\"/></a>"
      ]
    },
    {
      "cell_type": "markdown",
      "metadata": {
        "id": "AT1WjbFzVFnB"
      },
      "source": [
        "# Breve introducción a ANN\n",
        "\n",
        "Tutorial basado en el artículo [Simple Introduction to Convolutional Neural Networks](https://towardsdatascience.com/simple-introduction-to-convolutional-neural-networks-cdf8d3077bac).\n",
        "\n",
        "Antes de comenzar con el alboratorio vamos a revisar los conceptos básicos de las *redes neuronales artificiales* (ANN por sus siglas en inglés) y como se aplican al procesamiento y análisis de imágenes."
      ]
    },
    {
      "cell_type": "markdown",
      "metadata": {
        "id": "kPCMJYVcgzm-"
      },
      "source": [
        "## Motivación: análisis de imagen\n",
        "\n",
        "En las unidades anteriores hemos estado hablando básicamente de detectar características visuales en imágenes. Los investigadores desarrollaron múltiples técnicas de visión computacional para tratar estos problemas: SIFT, FAST, SURF, BRIEF, ORB, KAZE, etc. Sin embargo, en general estas técnicas presentaban dificultades para ciertos problemas: los detectores son demasiado simples o están diseñados para problemas muy específicos. \n",
        "\n",
        "Entonces la pregunta que surgió fue bastante obvia: ¿qué pasa si aprendemos las características visual que queremos detectar? Y la respuesta es simple: necesitamos un sistema que pueda hacer *aprendizaje de características* (o Feature Learning).\n",
        "\n",
        "El aprendizaje de características es una técnica que permite que un sistema encuentre automáticamente características relevantes para una tarea determinada, de manera que permite reemplazar el diseño manual de características. **Redes neuronales artificiales** es una de las técnicas que permite hacer esto."
      ]
    },
    {
      "cell_type": "markdown",
      "metadata": {
        "id": "ofOzmZziZ8sH"
      },
      "source": [
        "## Redes Neuronales artificiales\n",
        "\n",
        "Una **red neural artificial** es un modelo computacional que se inspira en la forma en como las redes neuronales biológicas del cerebro humano procesan la información. \n",
        "\n"
      ]
    },
    {
      "cell_type": "markdown",
      "metadata": {
        "id": "DpU2AKFzg3rZ"
      },
      "source": [
        "### Una sola neurona\n",
        "\n",
        "La unidad básica de cálculo en una red neuronal es la *neurona*, a menudo llamada nodo o unidad. Recibe información de algunos otros nodos, o de una fuente externa y calcula una salida. Cada entrada tiene un peso asociado (`w`), que se asigna en función de su importancia relativa a otras entradas. El nodo aplica una función `f` a la suma ponderada de sus entradas como se muestra a continuación:\n",
        "\n",
        "![](https://ujwlkarn.files.wordpress.com/2016/08/screen-shot-2016-08-09-at-3-42-21-am.png?w=1136&h=606)\n",
        "\n",
        "La red anterior toma entradas numéricas `X1` y `X2` y tiene pesos `w1` y `w2` asociados con esas entradas. Además, hay otra entrada `1` con el peso `b` (llamado *bias*) asociado a ella, y por el momento vamos a omitir esta entrada.\n",
        "\n",
        "La salida `Y` de la neurona se calcula como se muestra en la figura. La función `f` se llama *función de activación*. Una función de activación toma un número y realiza una operación matemática determinada. Hay varias funciones de activación que se pueden encontrar en la práctica:\n",
        "\n",
        "* `Sigmoide`: toma una entrada de valor real y la aplasta para que oscile entre 0 y 1\n",
        "\n",
        "* `ReLU`: ReLU significa *unidad lineal rectificada*. Toma una entrada de valor real y la umbraliza a cero (reemplaza los valores negativos con cero)\n",
        "\n",
        "![](https://miro.medium.com/max/1742/1*XxxiA0jJvPrHEJHD4z893g.png)"
      ]
    },
    {
      "cell_type": "markdown",
      "metadata": {
        "id": "059yXzghgr6Z"
      },
      "source": [
        "### Red neuronal feedforward multicapa (MLP)\n",
        "\n",
        "La red neuronal feedforward fue el primer modelo ideado y a su vez el más simple. Contiene múltiples neuronas (nodos) dispuestas en capas. Los nodos de las capas adyacentes tienen conexiones entre ellos y todas estas conexiones tienen pesos asociados con ellas. Un ejemplo de una red neuronal feedforward se muestra en la figura:\n",
        "\n",
        "![](https://miro.medium.com/max/1200/1*BQ0SxdqC9Pl_3ZQtd3e45A.png)\n",
        "\n",
        "Una red neuronal feedforward (multilayer) consta de nodos en tres tipos de capas:\n",
        "\n",
        "1. *Capa de entrada*: los nodos de esta capa proporcionan información externa a la red. No se realiza ningún cálculo en estos nodo, simplemente transmiten la información a los nodos de la capa oculta.\n",
        "\n",
        "2. *Capas ocultas*: los nodos de estas capas realizan cálculos y transfieren información de los nodos de entrada a los nodos de salida. Una red feedforward puede tener cero o múltiples capas ocultas.\n",
        "\n",
        "3. *Capa de salida*: los nodos de salida son responsables de los cálculos y la transferencia de información de la red al mundo exterior.\n",
        "\n",
        "En una red feedforward, la información se mueve en una sola dirección, hacia adelante, desde los nodos de entrada, a través de los nodos ocultos y hacia los nodos de salida. No hay ciclos ni bucles en la red."
      ]
    },
    {
      "cell_type": "markdown",
      "metadata": {
        "id": "Uk9AyYeDiYLZ"
      },
      "source": [
        "### Entrenando una ANN: algoritmo Backpropagation\n",
        "\n",
        "El proceso por el cual una ANN aprende se conoce como algoritmo de *backpropagation*, o retropropagación (abreviado como *BackProp*):\n",
        "\n",
        "* Es un esquema de entrenamiento supervisado, lo que significa que aprende de datos de entrenamiento ya etiquetados.\n",
        "* En términos simples, BackProp consiste en \"aprender de los errores\". El algoritmo corrige el ANN cada vez que comete errores.\n",
        "* El objetivo del aprendizaje es asignar pesos correctos a las conexiones entre nodos de capas diferentes. Dado un vector de entrada, estos pesos determinan cuál es el vector de salida.\n",
        "\n",
        "#### Algoritmo BackProp\n",
        "\n",
        "![](https://miro.medium.com/max/600/0*zjTuE91Skw7y2Vx-)\n",
        "Fuente: https://gfycat.com/gifs/search/backpropagation\n",
        "\n",
        "\n",
        "Inicialmente, todos los pesos de borde se asignan aleatoriamente. Para cada entrada en el conjunto de datos de entrenamiento, el ANN se activa y se observa su salida. Esta salida se compara con la salida deseada que ya conocemos, y el error se *propaga* de nuevo a la capa anterior. Este error se observa y los pesos se *ajustan* en consecuencia. Este proceso se repite hasta que el error de salida esté por debajo de un umbral predeterminado.\n",
        "\n",
        "#### Predicción de nuevas entradas\n",
        "\n",
        "Una vez que termina el algoritmo BackProp, hemos aprendido una ANN, y está lista para trabajar con nuevas entradas. La siguiente figura muestra como fluye la información de una nueva entrada para una red que ya fue entrenada.\n",
        "\n",
        "![](https://miro.medium.com/max/1111/0*bmcR3nOLvyp1moa6.gif)\n",
        "\n",
        "Con el fin de mejorar el entendimiento de este proceso, se puede utilizar la web desarrollada por Adam Harley (http://scs.ryerson.ca/~aharley/vis/fc/) para visualizar en 3D una ANN que fue entrenada (usando Backpropagation) para reconocer dígitos escrito a mano sobre la base de datos MNIST.\n",
        "\n",
        "La red toma 784 valores numéricos de píxeles como entradas de una imagen de 28x28 de un dígito escrito a mano (tiene 784 nodos en la capa de entrada correspondientes a píxeles). La red tiene 300 nodos en la primera capa oculta, 100 nodos en la segunda capa oculta y 10 nodos en la capa de salida (correspondientes a los 10 dígitos)."
      ]
    },
    {
      "cell_type": "markdown",
      "metadata": {
        "id": "mtMBpJNcqWUE"
      },
      "source": [
        "## Problemas de las ANN tradicionales (MLP)\n",
        "\n",
        "Antes de empezar con la páctica de ANN para análisis de imágenes, vamos a repasar los problemas que presentan las ANN tradicionales.\n",
        "\n",
        "* Hay varios inconvenientes con las MLP, especialmente cuando se trata del procesamiento de imágenes. Los MLP usan un perceptrón para cada entrada (por ejemplo, píxel en una imagen, multiplicado por 3 en caso de RGB). La cantidad de pesos rápidamente se vuelve inmanejable para imágenes grandes. Para una imagen de 224x224 píxeles con 3 canales de color, hay alrededor de 150.000 pesos que deben entrenarse. Como resultado, surgen dificultades durante el entranamiento, como ser el *sobreajuste*.\n",
        "\n",
        "* Otro problema común es que los MLP reaccionan de manera diferente a una entrada (imágenes) y su versión desplazada: no son invariantes de traslación. Por ejemplo, si aparece una imagen de un gato en la parte superior izquierda de una imagen y otro en la parte inferior derecha de otra imagen, el MLP intentará corregirse y asumirá que siempre aparecerá un gato en esa sección de la imagen.\n",
        "\n",
        "Ahora si, ya podemos comenzar con la práctica de este laboratorio."
      ]
    },
    {
      "cell_type": "markdown",
      "metadata": {
        "id": "FbVhjPpzn6BM"
      },
      "source": [
        "# Clasificación con ANN: predecir la clase de una imagen\n",
        "\n",
        "Tutorial extraído de https://www.tensorflow.org/tutorials/keras/classification\n",
        "\n",
        "En esta primera parte del laboratorio vamos entrenar una red neuronal para clasificar imagenes de ropa como ser zapatos, vestidos, camisetas y más. No hay problema sino entienden todos los detalles, ya que es una mirada rápido sobre un programa completo de *Tensorflow* con los detalles explicados a medida que se avanza.\n",
        "\n",
        "Esta Guia usa [tf.keras](https://www.tensorflow.org/guide/keras), una API de alto nivel para construir y entrenar modelos de redes neuronales en Tensorflow."
      ]
    },
    {
      "cell_type": "code",
      "metadata": {
        "id": "jL3OqFKZ9dFg",
        "colab": {
          "base_uri": "https://localhost:8080/"
        },
        "outputId": "ae8a066e-0fab-4a63-dd78-07fea3561e0c"
      },
      "source": [
        "try:\n",
        "  # %tensorflow_version only exists in Colab.\n",
        "  %tensorflow_version 2.x\n",
        "except Exception:\n",
        "  pass\n"
      ],
      "execution_count": null,
      "outputs": [
        {
          "output_type": "stream",
          "name": "stdout",
          "text": [
            "Colab only includes TensorFlow 2.x; %tensorflow_version has no effect.\n"
          ]
        }
      ]
    },
    {
      "cell_type": "code",
      "metadata": {
        "id": "dzLKpmZICaWN",
        "colab": {
          "base_uri": "https://localhost:8080/"
        },
        "outputId": "ed1080a7-d9e6-4c8f-ebfa-57a5b9f8b5ee"
      },
      "source": [
        "from __future__ import absolute_import, division, print_function, unicode_literals\n",
        "\n",
        "# TensorFlow y tf.keras\n",
        "import tensorflow as tf\n",
        "from tensorflow import keras\n",
        "\n",
        "# Librerias de ayuda\n",
        "import numpy as np\n",
        "import matplotlib.pyplot as plt\n",
        "\n",
        "print(tf.__version__)"
      ],
      "execution_count": null,
      "outputs": [
        {
          "output_type": "stream",
          "name": "stdout",
          "text": [
            "2.8.2\n"
          ]
        }
      ]
    },
    {
      "cell_type": "markdown",
      "metadata": {
        "id": "yR0EdgrLCaWR"
      },
      "source": [
        "## Importar el set de datos de moda de MNIST"
      ]
    },
    {
      "cell_type": "markdown",
      "metadata": {
        "id": "DLdCchMdCaWQ"
      },
      "source": [
        "Esta guia usa el set de datos de [Fashion MNIST](https://github.com/zalandoresearch/fashion-mnist)\n",
        "que contiene más de 70000 imágenes en 10 categorias. Las imágenes muestran artículos individuales de ropa a una resolución muy baja (28 por 28 pixeles), tal como se ve aca:\n",
        "\n",
        "<table>\n",
        "  <tr><td>\n",
        "    <img src=\"https://miro.medium.com/max/1400/1*RkysnlFejHNE4Us5aXmnHQ.jpeg\"\n",
        "         alt=\"Fashion MNIST sprite\"  width=\"600\">\n",
        "  </td></tr>\n",
        "  <tr><td align=\"center\">\n",
        "    <b>Figure 1.</b> <a href=\"https://github.com/zalandoresearch/fashion-mnist\">Fashion-MNIST samples</a> (by Zalando, MIT License).<br/>&nbsp;\n",
        "  </td></tr>\n",
        "</table>\n",
        "\n",
        "En este lab vamos a usar 60.000 imágenes para entrenar la red neuronal y 10.000 para evaluar que tan exacto aprendió la red a clasificar imágenes de moda. Se puede acceder al dataset Fashion MNIST directamente desde TensorFlow:"
      ]
    },
    {
      "cell_type": "code",
      "metadata": {
        "id": "7MqDQO0KCaWS"
      },
      "source": [
        "fashion_mnist = keras.datasets.fashion_mnist\n",
        "\n",
        "(train_images, train_labels), (test_images, test_labels) = fashion_mnist.load_data()"
      ],
      "execution_count": null,
      "outputs": []
    },
    {
      "cell_type": "markdown",
      "metadata": {
        "id": "t9FDsUlxCaWW"
      },
      "source": [
        "Al cargar el dataset, la función retorna cuatro arreglos en `NumPy`:\n",
        "\n",
        "* Los arreglos `train_images` y `train_labels` son los datos del *training set* que se usan para aprender el modelo.\n",
        "* Los arreglos `test_images` y `test_labels` son los datos del *test set* que se usan para probar el modelo.\n",
        "\n",
        "Las imágenes se cargan como arreglos `NumPy` de 28x28, con valores de pixel que varian de 0 a 255 (imagen en escala de grises). Los arreglos *labels* son arreglos de enteros, que van del 0 al 9, con tantas filas como imágenes hay para entrenamiento y para testeo, respectivamente. Estos corresponden a la *clase* de ropa que la imagen representa:\n",
        "\n",
        "<table>\n",
        "  <tr>\n",
        "    <th>Label</th>\n",
        "    <th>Class</th>\n",
        "  </tr>\n",
        "  <tr>\n",
        "    <td>0</td>\n",
        "    <td>T-shirt/top</td>\n",
        "  </tr>\n",
        "  <tr>\n",
        "    <td>1</td>\n",
        "    <td>Trouser</td>\n",
        "  </tr>\n",
        "    <tr>\n",
        "    <td>2</td>\n",
        "    <td>Pullover</td>\n",
        "  </tr>\n",
        "    <tr>\n",
        "    <td>3</td>\n",
        "    <td>Dress</td>\n",
        "  </tr>\n",
        "    <tr>\n",
        "    <td>4</td>\n",
        "    <td>Coat</td>\n",
        "  </tr>\n",
        "    <tr>\n",
        "    <td>5</td>\n",
        "    <td>Sandal</td>\n",
        "  </tr>\n",
        "    <tr>\n",
        "    <td>6</td>\n",
        "    <td>Shirt</td>\n",
        "  </tr>\n",
        "    <tr>\n",
        "    <td>7</td>\n",
        "    <td>Sneaker</td>\n",
        "  </tr>\n",
        "    <tr>\n",
        "    <td>8</td>\n",
        "    <td>Bag</td>\n",
        "  </tr>\n",
        "    <tr>\n",
        "    <td>9</td>\n",
        "    <td>Ankle boot</td>\n",
        "  </tr>\n",
        "</table>\n",
        "\n",
        "Cada imagen es mapeada a una unica etiqueta. Ya que los nombres de las clases no estan incluídos en los arreglos *labels*, los almacenamos acá para usarlos luego cuando se visualicen las imágenes:"
      ]
    },
    {
      "cell_type": "code",
      "metadata": {
        "id": "IjnLH5S2CaWx"
      },
      "source": [
        "class_names = ['T-shirt/top', 'Trouser', 'Pullover', 'Dress', 'Coat',\n",
        "               'Sandal', 'Shirt', 'Sneaker', 'Bag', 'Ankle boot']"
      ],
      "execution_count": null,
      "outputs": []
    },
    {
      "cell_type": "markdown",
      "metadata": {
        "id": "Brm0b_KACaWX"
      },
      "source": [
        "## Explorar el set de datos\n",
        "\n",
        "Exploramos el la información del dataset antes de entrenar el modelo. Lo siguiente muestra que hay 60.000 imágenes en el set de entrenamiento con cada imagen representada por un arrelgo de 28x28 píxeles:"
      ]
    },
    {
      "cell_type": "code",
      "metadata": {
        "id": "zW5k_xz1CaWX",
        "colab": {
          "base_uri": "https://localhost:8080/"
        },
        "outputId": "4925424a-f6f0-46ee-bd03-e3a9f4d79fe4"
      },
      "source": [
        "train_images.shape"
      ],
      "execution_count": null,
      "outputs": [
        {
          "output_type": "execute_result",
          "data": {
            "text/plain": [
              "(60000, 28, 28)"
            ]
          },
          "metadata": {},
          "execution_count": 383
        }
      ]
    },
    {
      "cell_type": "markdown",
      "metadata": {
        "id": "cIAcvQqMCaWf"
      },
      "source": [
        "Asimismo, hay 60.000 etiquetas en el set de entrenamiento:"
      ]
    },
    {
      "cell_type": "code",
      "metadata": {
        "id": "TRFYHB2mCaWb",
        "colab": {
          "base_uri": "https://localhost:8080/"
        },
        "outputId": "c5acd7c2-1c53-4eba-b371-b71a75533090"
      },
      "source": [
        "len(train_labels)"
      ],
      "execution_count": null,
      "outputs": [
        {
          "output_type": "execute_result",
          "data": {
            "text/plain": [
              "60000"
            ]
          },
          "metadata": {},
          "execution_count": 384
        }
      ]
    },
    {
      "cell_type": "markdown",
      "metadata": {
        "id": "YSlYxFuRCaWk"
      },
      "source": [
        "Cada etiqueta es un entero entre 0 y 9:"
      ]
    },
    {
      "cell_type": "code",
      "metadata": {
        "id": "XKnCTHz4CaWg",
        "colab": {
          "base_uri": "https://localhost:8080/"
        },
        "outputId": "b0048711-273c-42e5-940e-1683063d5446"
      },
      "source": [
        "train_labels"
      ],
      "execution_count": null,
      "outputs": [
        {
          "output_type": "execute_result",
          "data": {
            "text/plain": [
              "array([9, 0, 0, ..., 3, 0, 5], dtype=uint8)"
            ]
          },
          "metadata": {},
          "execution_count": 385
        }
      ]
    },
    {
      "cell_type": "markdown",
      "metadata": {
        "id": "TMPI88iZpO2T"
      },
      "source": [
        "Hay 10.000 imágenes en el set de pruebas. Otra vez, cada imagen es representada por un arrelgo de 28x28 píxeles:"
      ]
    },
    {
      "cell_type": "code",
      "metadata": {
        "id": "2KFnYlcwCaWl",
        "colab": {
          "base_uri": "https://localhost:8080/"
        },
        "outputId": "84daf2fb-6c19-4147-bc0b-9144c89fd165"
      },
      "source": [
        "test_images.shape"
      ],
      "execution_count": null,
      "outputs": [
        {
          "output_type": "execute_result",
          "data": {
            "text/plain": [
              "(10000, 28, 28)"
            ]
          },
          "metadata": {},
          "execution_count": 386
        }
      ]
    },
    {
      "cell_type": "markdown",
      "metadata": {
        "id": "rd0A0Iu0CaWq"
      },
      "source": [
        "Y el set de pruebas contiene 10.000 etiquetas de imagen:"
      ]
    },
    {
      "cell_type": "code",
      "metadata": {
        "id": "iJmPr5-ACaWn",
        "colab": {
          "base_uri": "https://localhost:8080/"
        },
        "outputId": "02f6c496-0c4b-4f83-99bc-318ac04d2428"
      },
      "source": [
        "len(test_labels)"
      ],
      "execution_count": null,
      "outputs": [
        {
          "output_type": "execute_result",
          "data": {
            "text/plain": [
              "10000"
            ]
          },
          "metadata": {},
          "execution_count": 387
        }
      ]
    },
    {
      "cell_type": "markdown",
      "metadata": {
        "id": "ES6uQoLKCaWr"
      },
      "source": [
        "## Pre-procesar el dataset\n",
        "\n",
        "El set de datos debe ser pre-procesado antes de entrenar la red. Al visualizar la primera imagen en el set de entrenamiento, encontramos que los valores de los pixeles están entre 0 y 255:"
      ]
    },
    {
      "cell_type": "code",
      "metadata": {
        "id": "m4VEw8Ud9Quh",
        "colab": {
          "base_uri": "https://localhost:8080/",
          "height": 265
        },
        "outputId": "02918a80-5958-4e64-bce2-4f23720f00c5"
      },
      "source": [
        "plt.figure()\n",
        "plt.imshow(train_images[0])\n",
        "plt.colorbar()\n",
        "plt.grid(False)\n",
        "plt.show()"
      ],
      "execution_count": null,
      "outputs": [
        {
          "output_type": "display_data",
          "data": {
            "text/plain": [
              "<Figure size 432x288 with 2 Axes>"
            ],
            "image/png": "[encoded data removed]"
          },
          "metadata": {
            "needs_background": "light"
          }
        }
      ]
    },
    {
      "cell_type": "markdown",
      "metadata": {
        "id": "Wz7l27Lz9S1P"
      },
      "source": [
        "Antes de entrenar la red neuronal debemos escalar estos valores en un rango de 0 a 1. Para hacero, dividimos los valores por 255. Es importante que el *training set* y el *testing set* se pre-procesen de la misma forma:"
      ]
    },
    {
      "cell_type": "code",
      "metadata": {
        "id": "bW5WzIPlCaWv"
      },
      "source": [
        "train_images = train_images / 255.0\n",
        "test_images = test_images / 255.0"
      ],
      "execution_count": null,
      "outputs": []
    },
    {
      "cell_type": "markdown",
      "metadata": {
        "id": "Ee638AlnCaWz"
      },
      "source": [
        "Para verificar que el set de datos está en el formato adecuado y que están listos para entrenar la red, veamos las primeras 25 imágenes de el *training set* junto al nombre de clase debajo de cada imagen."
      ]
    },
    {
      "cell_type": "code",
      "metadata": {
        "id": "oZTImqg_CaW1",
        "colab": {
          "base_uri": "https://localhost:8080/",
          "height": 589
        },
        "outputId": "569c8931-2fbd-4226-937f-4eff45bd105c"
      },
      "source": [
        "plt.figure(figsize=(10,10))\n",
        "for i in range(25):\n",
        "    plt.subplot(5,5,i+1)\n",
        "    plt.xticks([])\n",
        "    plt.yticks([])\n",
        "    plt.grid(False)\n",
        "    plt.imshow(train_images[i], cmap='gray')\n",
        "    plt.xlabel(class_names[train_labels[i]])\n",
        "plt.show()"
      ],
      "execution_count": null,
      "outputs": [
        {
          "output_type": "display_data",
          "data": {
            "text/plain": [
              "<Figure size 720x720 with 25 Axes>"
            ],
            "image/png": "[encoded data removed]"
          },
          "metadata": {}
        }
      ]
    },
    {
      "cell_type": "markdown",
      "metadata": {
        "id": "59veuiEZCaW4"
      },
      "source": [
        "## Construir del Modelo\n",
        "\n",
        "Construir la red neuronal requiere configurar las capas del modelo y luego compilarlo."
      ]
    },
    {
      "cell_type": "markdown",
      "metadata": {
        "id": "Gxg1XGm0eOBy"
      },
      "source": [
        "### Configurar las Capas\n",
        "\n",
        "Los bloques de construcción básicos de una red neuronal son las *capas* o *layers*. Las capas extraen representaciones (características o features) del set de datos con el que se alimentan. \n",
        "\n",
        "La mayor parte del *aprendizaje profundo* (deep learning) consiste en encadenar capas simples. La mayoría de las capas tienen parámetros que son aprendidos durante el entrenamiento. En TensorFlow, estas capas son implementadas mediante `tf.keras.layers.Dense`."
      ]
    },
    {
      "cell_type": "code",
      "metadata": {
        "id": "9ODch-OFCaW4"
      },
      "source": [
        "model = keras.Sequential([\n",
        "    keras.layers.Flatten(input_shape=(28, 28)),\n",
        "    keras.layers.Dense(128, activation='relu'),\n",
        "    keras.layers.Dense(10, activation='softmax')\n",
        "])"
      ],
      "execution_count": null,
      "outputs": []
    },
    {
      "cell_type": "markdown",
      "metadata": {
        "id": "gut8A_7rCaW6"
      },
      "source": [
        "La primera capa de esta red, `tf.keras.layers.Flatten`, \n",
        "transforma las imágenes de un arreglo bi-dimensional (de 28x28 píxeles) a un arreglo uni-dimensional (de 28\\*28 píxeles = 784 píxeles). En esta capa no hay parámetros que aprender, solo se *reformatea* el set de datos.\n",
        "\n",
        "Despues de que los píxeles son \"aplanados\", el modelo consiste de una secuencia de dos capas `tf.keras.layers.Dense`. Estas están densamente conectadas, o completamente conectadas. La primera capa `Dense` tiene 128 nodos (o neuronas) con una *función de activación* del tipo *relu*. La segunda (y última) capa es una capa de 10 nodos on una *función de activación* de tipo *softmax*, que devuelve un arreglo de 10 probabilidades que suman 1. Cada nodo contiene una *calificación* que indica la probabilidad de que la imagen actual pertenezca a una de las 10 clases.\n",
        "\n",
        "### Compilar el modelo\n",
        "\n",
        "Antes de que el modelo este listo para ser entrenado, se necesitan algunas configuraciones más. Estas son agregadas durante el paso de compilacion del modelo:\n",
        "\n",
        "* *Loss function*: esto permite medir que tan exacto es el modelo durante el entrenamiento. La idea es minimizar el valor de esta función para \"dirigir\" el modelo en la direccion adecuada.\n",
        "* *Optimizer*: así es como se actualiza el modelo basado en los datos de entrenamiento y su loss function.\n",
        "* *Metrics*: se usan para monitorear los pasos de entrenamiento y de testeo. El siguiente ejemplo usa *accuracy* (exactitud), es decir, la fracción de imágenes que son correctamente clasificadas."
      ]
    },
    {
      "cell_type": "code",
      "metadata": {
        "id": "Lhan11blCaW7"
      },
      "source": [
        "model.compile(optimizer='adam',\n",
        "              loss='sparse_categorical_crossentropy',\n",
        "              metrics=['accuracy'])"
      ],
      "execution_count": null,
      "outputs": []
    },
    {
      "cell_type": "markdown",
      "metadata": {
        "id": "qKF6uW-BCaW-"
      },
      "source": [
        "## Entrenar el Modelo\n",
        "\n",
        "Entrenar la red neuronal requiere de los siguientes pasos:\n",
        "\n",
        "1. Entregar los datos de entrenamiento al modelo. En este ejemplo, el set de datos de entrenamiento estan en los arreglos `train_images` y `train_labels`.\n",
        "2. Correr el entreanamiento para que el modelo aprenda a asociar imágenes con etiquetas.\n",
        "3. Pedir al modelo que haga predicciones sobre un set de datos de pruebas, incluido en el arreglo `test_images`. Verificar que las predicciones sean iguales a las etiquetas del arreglo `test_labels`.\n",
        "\n",
        "Para comenzar a entrenar, se llama el método `model.fit`. Se denomina así por que ajusta (*fit*) el modelo a el set de datos de entrenamiento:"
      ]
    },
    {
      "cell_type": "code",
      "metadata": {
        "id": "xvwvpA64CaW_",
        "colab": {
          "base_uri": "https://localhost:8080/"
        },
        "outputId": "81b94689-24d9-43dc-9574-19d327e5edce"
      },
      "source": [
        "model.fit(train_images, train_labels, epochs=10)"
      ],
      "execution_count": null,
      "outputs": [
        {
          "output_type": "stream",
          "name": "stdout",
          "text": [
            "Epoch 1/10\n",
            "1875/1875 [==============================] - 4s 2ms/step - loss: 0.4947 - accuracy: 0.8261\n",
            "Epoch 2/10\n",
            "1875/1875 [==============================] - 4s 2ms/step - loss: 0.3726 - accuracy: 0.8642\n",
            "Epoch 3/10\n",
            "1875/1875 [==============================] - 4s 2ms/step - loss: 0.3350 - accuracy: 0.8773\n",
            "Epoch 4/10\n",
            "1875/1875 [==============================] - 4s 2ms/step - loss: 0.3124 - accuracy: 0.8852\n",
            "Epoch 5/10\n",
            "1875/1875 [==============================] - 4s 2ms/step - loss: 0.2925 - accuracy: 0.8939\n",
            "Epoch 6/10\n",
            "1875/1875 [==============================] - 4s 2ms/step - loss: 0.2797 - accuracy: 0.8961\n",
            "Epoch 7/10\n",
            "1875/1875 [==============================] - 4s 2ms/step - loss: 0.2679 - accuracy: 0.9007\n",
            "Epoch 8/10\n",
            "1875/1875 [==============================] - 5s 3ms/step - loss: 0.2588 - accuracy: 0.9041\n",
            "Epoch 9/10\n",
            "1875/1875 [==============================] - 4s 2ms/step - loss: 0.2463 - accuracy: 0.9083\n",
            "Epoch 10/10\n",
            "1875/1875 [==============================] - 4s 2ms/step - loss: 0.2369 - accuracy: 0.9116\n"
          ]
        },
        {
          "output_type": "execute_result",
          "data": {
            "text/plain": [
              "<keras.callbacks.History at 0x7fc47ad3a450>"
            ]
          },
          "metadata": {},
          "execution_count": 393
        }
      ]
    },
    {
      "cell_type": "markdown",
      "metadata": {
        "id": "W3ZVOhugCaXA"
      },
      "source": [
        "A medida que el modelo entrena, la muestran los valores de *loss function* y *accuracy* sobre el **set de datos de entrenamiento**.\n",
        "\n",
        "En este punto vale aclarar terminología de redes neuronales, y que son parámetros del método `fit`:\n",
        "\n",
        "* Un `epoch`: un pase hacia adelante (*forward pass*) y un pase hacia atrás (*backward pass*) de **todos los ejemplos de entrenamiento**.\n",
        "* `batch size`: número de ejemplos de entrenamiento en un forward/backward pass. Cuanto mayor sea el tamaño del lote, más espacio en memoria se necesita.\n",
        "* Número de `iteraciones` = número de pasadas, donde el número de ejemplos de involucrados en cada pasada esta especificado por `[batch size]`. Una pasada es un *forward pass* mas un *backward pass*.\n",
        "\n",
        "Ejemplo: si se tiene 1.000 ejemplos de entrenamiento y el `batch size` es de 500, entonces se necesitan 2 iteraciones para completar 1 `epoch`."
      ]
    },
    {
      "cell_type": "markdown",
      "metadata": {
        "id": "oEw4bZgGCaXB"
      },
      "source": [
        "## Evaluar Accuracy\n",
        "\n",
        "A continuación vamos a estimar el rendimiento del modelo sobre el set de datos de prueba:"
      ]
    },
    {
      "cell_type": "code",
      "metadata": {
        "id": "VflXLEeECaXC",
        "colab": {
          "base_uri": "https://localhost:8080/"
        },
        "outputId": "dc5ddf71-a7e5-4beb-db6b-4b564f026236"
      },
      "source": [
        "test_loss, test_acc = model.evaluate(test_images,  test_labels, verbose=2)\n",
        "\n",
        "print('\\nTest accuracy:', test_acc)"
      ],
      "execution_count": null,
      "outputs": [
        {
          "output_type": "stream",
          "name": "stdout",
          "text": [
            "313/313 - 1s - loss: 0.3482 - accuracy: 0.8796 - 626ms/epoch - 2ms/step\n",
            "\n",
            "Test accuracy: 0.8795999884605408\n"
          ]
        }
      ]
    },
    {
      "cell_type": "markdown",
      "metadata": {
        "id": "yWfgsmVXCaXG"
      },
      "source": [
        "Resulta que la *accuracy* sobre el set de datos de pruebas es un poco menor que la *accuracy* sobre el set de entrenamiento. Esta diferencia entre el entrenamiento y el test se debe al *overfitting* (sobre ajuste). Sobre ajuste sucede cuando un modelo de aprendizaje de maquina (ML) tiene un rendimiento peor sobre un set de datos nuevo (o de testeo), que nunca antes ha visto comparado con el de entrenamiento."
      ]
    },
    {
      "cell_type": "markdown",
      "metadata": {
        "id": "xsoS7CPDCaXH"
      },
      "source": [
        "## Hacer predicciones\n",
        "\n",
        "Finalmente, con el modelo entrenado ya se pueden hacer predicciones sobre nuevas imágenes. Para esto usamos el método `predict` con las imágenes del conjunto de testeo."
      ]
    },
    {
      "cell_type": "code",
      "metadata": {
        "id": "Gl91RPhdCaXI"
      },
      "source": [
        "predictions = model.predict(test_images)"
      ],
      "execution_count": null,
      "outputs": []
    },
    {
      "cell_type": "markdown",
      "metadata": {
        "id": "x9Kk1voUCaXJ"
      },
      "source": [
        "En la celda anterior, el modelo predice la etiqueta para cada imagen en el set de datos de prueba. Miremos la primera prediccion:"
      ]
    },
    {
      "cell_type": "code",
      "metadata": {
        "id": "3DmJEUinCaXK",
        "colab": {
          "base_uri": "https://localhost:8080/"
        },
        "outputId": "2bc20a54-8551-4063-d7db-02c76bbe41b2"
      },
      "source": [
        "predictions[0]"
      ],
      "execution_count": null,
      "outputs": [
        {
          "output_type": "execute_result",
          "data": {
            "text/plain": [
              "array([2.5738839e-07, 1.4885921e-12, 1.3219646e-09, 4.4969497e-11,\n",
              "       2.8570843e-10, 5.0281077e-03, 4.3267761e-08, 7.3967566e-04,\n",
              "       3.7946810e-09, 9.9423188e-01], dtype=float32)"
            ]
          },
          "metadata": {},
          "execution_count": 396
        }
      ]
    },
    {
      "cell_type": "markdown",
      "metadata": {
        "id": "-hw1hgeSCaXN"
      },
      "source": [
        "Una prediccion es un arreglo de 10 números (que corresponden a las 10 neuronas de la segunda capa). Estos valores representan el nivel de \"confianza\" (o probabilidad) que el modelo arroja sobre las imágenes de cada uno de los 10 artículos de moda/ropa. Se puede revisar cual tiene el nivel más alto de confianza:"
      ]
    },
    {
      "cell_type": "code",
      "metadata": {
        "id": "qsqenuPnCaXO",
        "colab": {
          "base_uri": "https://localhost:8080/"
        },
        "outputId": "ab8d09c4-b0d5-4be7-8883-d11c68bc6e37"
      },
      "source": [
        "pred_label = np.argmax(predictions[0])\n",
        "print(pred_label, \" [\", class_names[pred_label], \"]\", sep=\"\")"
      ],
      "execution_count": null,
      "outputs": [
        {
          "output_type": "stream",
          "name": "stdout",
          "text": [
            "9 [Ankle boot]\n"
          ]
        }
      ]
    },
    {
      "cell_type": "markdown",
      "metadata": {
        "id": "E51yS7iCCaXO"
      },
      "source": [
        "De esta manera, el modelo tiene mayor confianza que esta imagen es una \"ankle boot\". Examinando las etiquetas del set de datos de pruebas, podemos ver que esta clasificaion es correcta:"
      ]
    },
    {
      "cell_type": "code",
      "metadata": {
        "id": "Sd7Pgsu6CaXP",
        "colab": {
          "base_uri": "https://localhost:8080/"
        },
        "outputId": "394ca2d9-ec21-4707-8341-c53e892b1c3c"
      },
      "source": [
        "test_labels[0]"
      ],
      "execution_count": null,
      "outputs": [
        {
          "output_type": "execute_result",
          "data": {
            "text/plain": [
              "9"
            ]
          },
          "metadata": {},
          "execution_count": 398
        }
      ]
    },
    {
      "cell_type": "markdown",
      "metadata": {
        "id": "ygh2yYC972ne"
      },
      "source": [
        "Por último vamos crear una función que nos permita graficar la probabilidad de clase de cada una de las imagenes del dataset de pruebas."
      ]
    },
    {
      "cell_type": "code",
      "metadata": {
        "id": "DvYmmrpIy6Y1"
      },
      "source": [
        "def plot_image(i, predictions_array, true_label, img):\n",
        "  predictions_array, true_label, img = predictions_array, true_label[i], img[i]\n",
        "  plt.grid(False)\n",
        "  plt.xticks([])\n",
        "  plt.yticks([])\n",
        "\n",
        "  plt.imshow(img, cmap=plt.cm.binary)\n",
        "\n",
        "  predicted_label = np.argmax(predictions_array)\n",
        "  if predicted_label == true_label:\n",
        "    color = 'blue'\n",
        "  else:\n",
        "    color = 'red'\n",
        "\n",
        "  plt.xlabel(\"{} {:2.0f}% ({})\".format(class_names[predicted_label],\n",
        "                                100*np.max(predictions_array),\n",
        "                                class_names[true_label]),\n",
        "                                color=color)\n",
        "\n",
        "def plot_value_array(i, predictions_array, true_label):\n",
        "  predictions_array, true_label = predictions_array, true_label[i]\n",
        "  plt.grid(False)\n",
        "  plt.xticks(range(10))\n",
        "  plt.yticks([])\n",
        "  thisplot = plt.bar(range(10), predictions_array, color=\"#777777\")\n",
        "  plt.ylim([0, 1])\n",
        "  predicted_label = np.argmax(predictions_array)\n",
        "\n",
        "  thisplot[predicted_label].set_color('red')\n",
        "  thisplot[true_label].set_color('blue')\n",
        " "
      ],
      "execution_count": null,
      "outputs": []
    },
    {
      "cell_type": "markdown",
      "metadata": {
        "id": "d4Ov9OFDMmOD"
      },
      "source": [
        "Tomemos como ejemplos la primer imagen del conjunto de testeo (`i=0`) y la décimotercera (`i=12`). Las etiquetas de prediccion correctas estan en azul y las incorrectas estan en rojo. El numero entrega el porcentaje para la etiqueta predicha."
      ]
    },
    {
      "cell_type": "code",
      "metadata": {
        "id": "HV5jw-5HwSmO",
        "colab": {
          "base_uri": "https://localhost:8080/",
          "height": 211
        },
        "outputId": "ae80a163-bdfb-4911-dc32-21f685d8564a"
      },
      "source": [
        "i = 0\n",
        "plt.figure(figsize=(6,3))\n",
        "plt.subplot(1,2,1)\n",
        "plot_image(i, predictions[i], test_labels, test_images)\n",
        "plt.subplot(1,2,2)\n",
        "plot_value_array(i, predictions[i],  test_labels)\n",
        "plt.show()"
      ],
      "execution_count": null,
      "outputs": [
        {
          "output_type": "display_data",
          "data": {
            "text/plain": [
              "<Figure size 432x216 with 2 Axes>"
            ],
            "image/png": "[encoded data removed]"
          },
          "metadata": {
            "needs_background": "light"
          }
        }
      ]
    },
    {
      "cell_type": "code",
      "metadata": {
        "id": "Ko-uzOufSCSe",
        "colab": {
          "base_uri": "https://localhost:8080/",
          "height": 211
        },
        "outputId": "d910e63e-9c68-4682-a6c4-3983f3f3d4cf"
      },
      "source": [
        "i = 12\n",
        "plt.figure(figsize=(6,3))\n",
        "plt.subplot(1,2,1)\n",
        "plot_image(i, predictions[i], test_labels, test_images)\n",
        "plt.subplot(1,2,2)\n",
        "plot_value_array(i, predictions[i],  test_labels)\n",
        "plt.show()"
      ],
      "execution_count": null,
      "outputs": [
        {
          "output_type": "display_data",
          "data": {
            "text/plain": [
              "<Figure size 432x216 with 2 Axes>"
            ],
            "image/png": "[encoded data removed]"
          },
          "metadata": {
            "needs_background": "light"
          }
        }
      ]
    },
    {
      "cell_type": "markdown",
      "metadata": {
        "id": "kgdvGD52CaXR"
      },
      "source": [
        "Ahora vamos a graficar multiples imágenes con sus predicciones. Notese que el modelo puede estar equivocado aun cuando tiene mucha confianza."
      ]
    },
    {
      "cell_type": "code",
      "metadata": {
        "id": "hQlnbqaw2Qu_",
        "colab": {
          "base_uri": "https://localhost:8080/",
          "height": 729
        },
        "outputId": "7775d562-8271-4d71-d3e0-c6d327d1b1b0"
      },
      "source": [
        "# Plot the first X test images, their predicted labels, and the true labels.\n",
        "# Color correct predictions in blue and incorrect predictions in red.\n",
        "num_rows = 5\n",
        "num_cols = 3\n",
        "num_images = num_rows*num_cols\n",
        "plt.figure(figsize=(2*2*num_cols, 2*num_rows))\n",
        "for i in range(num_images):\n",
        "  plt.subplot(num_rows, 2*num_cols, 2*i+1)\n",
        "  plot_image(i, predictions[i], test_labels, test_images)\n",
        "  plt.subplot(num_rows, 2*num_cols, 2*i+2)\n",
        "  plot_value_array(i, predictions[i], test_labels)\n",
        "plt.tight_layout()\n",
        "plt.show()"
      ],
      "execution_count": null,
      "outputs": [
        {
          "output_type": "display_data",
          "data": {
            "text/plain": [
              "<Figure size 864x720 with 30 Axes>"
            ],
            "image/png": "[encoded data removed]"
          },
          "metadata": {
            "needs_background": "light"
          }
        }
      ]
    },
    {
      "cell_type": "markdown",
      "metadata": {
        "id": "R32zteKHCaXT"
      },
      "source": [
        "Finalmente, usamos el modelo entrenado para hacer una predicción sobre una única imagen."
      ]
    },
    {
      "cell_type": "code",
      "metadata": {
        "id": "yRJ7JU7JCaXT",
        "colab": {
          "base_uri": "https://localhost:8080/"
        },
        "outputId": "151c9f09-7749-4eac-9d18-6668aaabfbf7"
      },
      "source": [
        "# Grab an image from the test dataset.\n",
        "img = test_images[1]\n",
        "\n",
        "print(img.shape)"
      ],
      "execution_count": null,
      "outputs": [
        {
          "output_type": "stream",
          "name": "stdout",
          "text": [
            "(28, 28)\n"
          ]
        }
      ]
    },
    {
      "cell_type": "markdown",
      "metadata": {
        "id": "vz3bVp21CaXV"
      },
      "source": [
        "Los modelos de `tf.keras` se optimizan para hacer predicciones en un lote de ejemplos a la vez. En consecuencia, a pesar de que está utilizando una sola imagen, es necesario añadirla a una lista:"
      ]
    },
    {
      "cell_type": "code",
      "metadata": {
        "id": "lDFh5yF_CaXW",
        "colab": {
          "base_uri": "https://localhost:8080/"
        },
        "outputId": "69df5f41-6626-4f98-9e22-a7ddc9335d42"
      },
      "source": [
        "# Add the image to a batch where it's the only member.\n",
        "img = (np.expand_dims(img,0))\n",
        "\n",
        "print(img.shape)"
      ],
      "execution_count": null,
      "outputs": [
        {
          "output_type": "stream",
          "name": "stdout",
          "text": [
            "(1, 28, 28)\n"
          ]
        }
      ]
    },
    {
      "cell_type": "markdown",
      "metadata": {
        "id": "EQ5wLTkcCaXY"
      },
      "source": [
        "Ahora se puede predecir la etiqueta correcta para esta única imagen:"
      ]
    },
    {
      "cell_type": "code",
      "metadata": {
        "id": "o_rzNSdrCaXY",
        "colab": {
          "base_uri": "https://localhost:8080/"
        },
        "outputId": "fa9777b7-36c4-4154-80f6-2962638552e3"
      },
      "source": [
        "predictions_single = model.predict(img)\n",
        "\n",
        "print(predictions_single)"
      ],
      "execution_count": null,
      "outputs": [
        {
          "output_type": "stream",
          "name": "stdout",
          "text": [
            "[[6.8892557e-05 2.5595769e-13 9.9988043e-01 1.0758144e-09 3.2057331e-05\n",
            "  2.4699971e-12 1.8659150e-05 6.6898501e-15 6.3076745e-11 3.2667482e-14]]\n"
          ]
        }
      ]
    },
    {
      "cell_type": "code",
      "metadata": {
        "id": "6Ai-cpLjO-3A",
        "colab": {
          "base_uri": "https://localhost:8080/",
          "height": 300
        },
        "outputId": "3e2280e7-9f02-4353-f164-344d884771ff"
      },
      "source": [
        "plot_value_array(1, predictions_single[0], test_labels)\n",
        "_ = plt.xticks(range(10), class_names, rotation=45)"
      ],
      "execution_count": null,
      "outputs": [
        {
          "output_type": "display_data",
          "data": {
            "text/plain": [
              "<Figure size 432x288 with 1 Axes>"
            ],
            "image/png": "[encoded data removed]"
          },
          "metadata": {
            "needs_background": "light"
          }
        }
      ]
    },
    {
      "cell_type": "markdown",
      "metadata": {
        "id": "cU1Y2OAMCaXb"
      },
      "source": [
        "`model.predict` retorna una lista de listas para cada imagen dentro del lote de imáágenes. Por lo tanto, para tomar la prediccion de la única imagen dentro del lote hacemos:"
      ]
    },
    {
      "cell_type": "code",
      "metadata": {
        "id": "2tRmdq_8CaXb",
        "colab": {
          "base_uri": "https://localhost:8080/"
        },
        "outputId": "bd5ec697-4f02-44d0-dd84-19e43952e087"
      },
      "source": [
        "pred_label_single = np.argmax(predictions_single[0])\n",
        "print(pred_label_single, \" [\", class_names[pred_label_single], \"]\", sep=\"\")"
      ],
      "execution_count": null,
      "outputs": [
        {
          "output_type": "stream",
          "name": "stdout",
          "text": [
            "2 [Pullover]\n"
          ]
        }
      ]
    },
    {
      "cell_type": "markdown",
      "metadata": {
        "id": "YFc2HbEVCaXd"
      },
      "source": [
        "Y el modelo predice la etiqueta 2 (pullover)."
      ]
    },
    {
      "cell_type": "markdown",
      "metadata": {
        "id": "GgiWQh4WPbDL"
      },
      "source": [
        "---\n",
        "\n",
        "# Trabajo Práctico 1 (primera parte)\n",
        "\n",
        "**Acá tienen que dejar los datos de las y los integrantes del grupo:**\n",
        "\n",
        "Nombre y Apellido, DNI, correo eletrónico\n",
        "\n",
        "---"
      ]
    },
    {
      "cell_type": "markdown",
      "metadata": {
        "id": "2j3DS0bPOXJd"
      },
      "source": [
        "## **EJERCICIO 1.1**: predecir nuevas imágenes de moda con el modelo previamente entrenado\n",
        "\n",
        "1. **Crear un nuevo dataset** propio con **30 imágenes** en total (3 imágenes de cada categoría). Estás imágenes no deben ser tomadas del dataset original (Fashion MNIST). Pueden capturar sus propias imágenes o buscarlas en la web. **Como sea, recuerden que deben preprocesar las imágenes para que tengan exactamente el mismo formato de entrada que requiere la red.**\n",
        "\n",
        "1. **Mostrar todas las imágenes del conjunto de testeo** creado por ustedes para que se pueda inspeccionar rápidamente su contenido.\n",
        "\n",
        "1. Tomando la ANN previamente entrenada, **predecir las etiquetas** de cada imagen del dataset y reportar los resultados de **accuracy** (y **opcionalmente** cualquier otra métrica que le resulte adecuada, como ser **precisión** y **recall**)\n",
        "\n",
        "TIP: reutilice las celdas de código presentadas anteriormente\n"
      ]
    },
    {
      "cell_type": "code",
      "metadata": {
        "id": "uR0kdgZLV73x"
      },
      "source": [
        "# EJERCICIO 1.1\n",
        "# ..."
      ],
      "execution_count": null,
      "outputs": []
    },
    {
      "cell_type": "code",
      "source": [
        "from google.colab import files\n",
        "uploaded= files.upload()"
      ],
      "metadata": {
        "colab": {
          "resources": {
            "http://localhost:8080/nbextensions/google.colab/files.js": {
              "data": "Ly8gQ29weXJpZ2h0IDIwMTcgR29vZ2xlIExMQwovLwovLyBMaWNlbnNlZCB1bmRlciB0aGUgQXBhY2hlIExpY2Vuc2UsIFZlcnNpb24gMi4wICh0aGUgIkxpY2Vuc2UiKTsKLy8geW91IG1heSBub3QgdXNlIHRoaXMgZmlsZSBleGNlcHQgaW4gY29tcGxpYW5jZSB3aXRoIHRoZSBMaWNlbnNlLgovLyBZb3UgbWF5IG9idGFpbiBhIGNvcHkgb2YgdGhlIExpY2Vuc2UgYXQKLy8KLy8gICAgICBodHRwOi8vd3d3LmFwYWNoZS5vcmcvbGljZW5zZXMvTElDRU5TRS0yLjAKLy8KLy8gVW5sZXNzIHJlcXVpcmVkIGJ5IGFwcGxpY2FibGUgbGF3IG9yIGFncmVlZCB0byBpbiB3cml0aW5nLCBzb2Z0d2FyZQovLyBkaXN0cmlidXRlZCB1bmRlciB0aGUgTGljZW5zZSBpcyBkaXN0cmlidXRlZCBvbiBhbiAiQVMgSVMiIEJBU0lTLAovLyBXSVRIT1VUIFdBUlJBTlRJRVMgT1IgQ09ORElUSU9OUyBPRiBBTlkgS0lORCwgZWl0aGVyIGV4cHJlc3Mgb3IgaW1wbGllZC4KLy8gU2VlIHRoZSBMaWNlbnNlIGZvciB0aGUgc3BlY2lmaWMgbGFuZ3VhZ2UgZ292ZXJuaW5nIHBlcm1pc3Npb25zIGFuZAovLyBsaW1pdGF0aW9ucyB1bmRlciB0aGUgTGljZW5zZS4KCi8qKgogKiBAZmlsZW92ZXJ2aWV3IEhlbHBlcnMgZm9yIGdvb2dsZS5jb2xhYiBQeXRob24gbW9kdWxlLgogKi8KKGZ1bmN0aW9uKHNjb3BlKSB7CmZ1bmN0aW9uIHNwYW4odGV4dCwgc3R5bGVBdHRyaWJ1dGVzID0ge30pIHsKICBjb25zdCBlbGVtZW50ID0gZG9jdW1lbnQuY3JlYXRlRWxlbWVudCgnc3BhbicpOwogIGVsZW1lbnQudGV4dENvbnRlbnQgPSB0ZXh0OwogIGZvciAoY29uc3Qga2V5IG9mIE9iamVjdC5rZXlzKHN0eWxlQXR0cmlidXRlcykpIHsKICAgIGVsZW1lbnQuc3R5bGVba2V5XSA9IHN0eWxlQXR0cmlidXRlc1trZXldOwogIH0KICByZXR1cm4gZWxlbWVudDsKfQoKLy8gTWF4IG51bWJlciBvZiBieXRlcyB3aGljaCB3aWxsIGJlIHVwbG9hZGVkIGF0IGEgdGltZS4KY29uc3QgTUFYX1BBWUxPQURfU0laRSA9IDEwMCAqIDEwMjQ7CgpmdW5jdGlvbiBfdXBsb2FkRmlsZXMoaW5wdXRJZCwgb3V0cHV0SWQpIHsKICBjb25zdCBzdGVwcyA9IHVwbG9hZEZpbGVzU3RlcChpbnB1dElkLCBvdXRwdXRJZCk7CiAgY29uc3Qgb3V0cHV0RWxlbWVudCA9IGRvY3VtZW50LmdldEVsZW1lbnRCeUlkKG91dHB1dElkKTsKICAvLyBDYWNoZSBzdGVwcyBvbiB0aGUgb3V0cHV0RWxlbWVudCB0byBtYWtlIGl0IGF2YWlsYWJsZSBmb3IgdGhlIG5leHQgY2FsbAogIC8vIHRvIHVwbG9hZEZpbGVzQ29udGludWUgZnJvbSBQeXRob24uCiAgb3V0cHV0RWxlbWVudC5zdGVwcyA9IHN0ZXBzOwoKICByZXR1cm4gX3VwbG9hZEZpbGVzQ29udGludWUob3V0cHV0SWQpOwp9CgovLyBUaGlzIGlzIHJvdWdobHkgYW4gYXN5bmMgZ2VuZXJhdG9yIChub3Qgc3VwcG9ydGVkIGluIHRoZSBicm93c2VyIHlldCksCi8vIHdoZXJlIHRoZXJlIGFyZSBtdWx0aXBsZSBhc3luY2hyb25vdXMgc3RlcHMgYW5kIHRoZSBQeXRob24gc2lkZSBpcyBnb2luZwovLyB0byBwb2xsIGZvciBjb21wbGV0aW9uIG9mIGVhY2ggc3RlcC4KLy8gVGhpcyB1c2VzIGEgUHJvbWlzZSB0byBibG9jayB0aGUgcHl0aG9uIHNpZGUgb24gY29tcGxldGlvbiBvZiBlYWNoIHN0ZXAsCi8vIHRoZW4gcGFzc2VzIHRoZSByZXN1bHQgb2YgdGhlIHByZXZpb3VzIHN0ZXAgYXMgdGhlIGlucHV0IHRvIHRoZSBuZXh0IHN0ZXAuCmZ1bmN0aW9uIF91cGxvYWRGaWxlc0NvbnRpbnVlKG91dHB1dElkKSB7CiAgY29uc3Qgb3V0cHV0RWxlbWVudCA9IGRvY3VtZW50LmdldEVsZW1lbnRCeUlkKG91dHB1dElkKTsKICBjb25zdCBzdGVwcyA9IG91dHB1dEVsZW1lbnQuc3RlcHM7CgogIGNvbnN0IG5leHQgPSBzdGVwcy5uZXh0KG91dHB1dEVsZW1lbnQubGFzdFByb21pc2VWYWx1ZSk7CiAgcmV0dXJuIFByb21pc2UucmVzb2x2ZShuZXh0LnZhbHVlLnByb21pc2UpLnRoZW4oKHZhbHVlKSA9PiB7CiAgICAvLyBDYWNoZSB0aGUgbGFzdCBwcm9taXNlIHZhbHVlIHRvIG1ha2UgaXQgYXZhaWxhYmxlIHRvIHRoZSBuZXh0CiAgICAvLyBzdGVwIG9mIHRoZSBnZW5lcmF0b3IuCiAgICBvdXRwdXRFbGVtZW50Lmxhc3RQcm9taXNlVmFsdWUgPSB2YWx1ZTsKICAgIHJldHVybiBuZXh0LnZhbHVlLnJlc3BvbnNlOwogIH0pOwp9CgovKioKICogR2VuZXJhdG9yIGZ1bmN0aW9uIHdoaWNoIGlzIGNhbGxlZCBiZXR3ZWVuIGVhY2ggYXN5bmMgc3RlcCBvZiB0aGUgdXBsb2FkCiAqIHByb2Nlc3MuCiAqIEBwYXJhbSB7c3RyaW5nfSBpbnB1dElkIEVsZW1lbnQgSUQgb2YgdGhlIGlucHV0IGZpbGUgcGlja2VyIGVsZW1lbnQuCiAqIEBwYXJhbSB7c3RyaW5nfSBvdXRwdXRJZCBFbGVtZW50IElEIG9mIHRoZSBvdXRwdXQgZGlzcGxheS4KICogQHJldHVybiB7IUl0ZXJhYmxlPCFPYmplY3Q+fSBJdGVyYWJsZSBvZiBuZXh0IHN0ZXBzLgogKi8KZnVuY3Rpb24qIHVwbG9hZEZpbGVzU3RlcChpbnB1dElkLCBvdXRwdXRJZCkgewogIGNvbnN0IGlucHV0RWxlbWVudCA9IGRvY3VtZW50LmdldEVsZW1lbnRCeUlkKGlucHV0SWQpOwogIGlucHV0RWxlbWVudC5kaXNhYmxlZCA9IGZhbHNlOwoKICBjb25zdCBvdXRwdXRFbGVtZW50ID0gZG9jdW1lbnQuZ2V0RWxlbWVudEJ5SWQob3V0cHV0SWQpOwogIG91dHB1dEVsZW1lbnQuaW5uZXJIVE1MID0gJyc7CgogIGNvbnN0IHBpY2tlZFByb21pc2UgPSBuZXcgUHJvbWlzZSgocmVzb2x2ZSkgPT4gewogICAgaW5wdXRFbGVtZW50LmFkZEV2ZW50TGlzdGVuZXIoJ2NoYW5nZScsIChlKSA9PiB7CiAgICAgIHJlc29sdmUoZS50YXJnZXQuZmlsZXMpOwogICAgfSk7CiAgfSk7CgogIGNvbnN0IGNhbmNlbCA9IGRvY3VtZW50LmNyZWF0ZUVsZW1lbnQoJ2J1dHRvbicpOwogIGlucHV0RWxlbWVudC5wYXJlbnRFbGVtZW50LmFwcGVuZENoaWxkKGNhbmNlbCk7CiAgY2FuY2VsLnRleHRDb250ZW50ID0gJ0NhbmNlbCB1cGxvYWQnOwogIGNvbnN0IGNhbmNlbFByb21pc2UgPSBuZXcgUHJvbWlzZSgocmVzb2x2ZSkgPT4gewogICAgY2FuY2VsLm9uY2xpY2sgPSAoKSA9PiB7CiAgICAgIHJlc29sdmUobnVsbCk7CiAgICB9OwogIH0pOwoKICAvLyBXYWl0IGZvciB0aGUgdXNlciB0byBwaWNrIHRoZSBmaWxlcy4KICBjb25zdCBmaWxlcyA9IHlpZWxkIHsKICAgIHByb21pc2U6IFByb21pc2UucmFjZShbcGlja2VkUHJvbWlzZSwgY2FuY2VsUHJvbWlzZV0pLAogICAgcmVzcG9uc2U6IHsKICAgICAgYWN0aW9uOiAnc3RhcnRpbmcnLAogICAgfQogIH07CgogIGNhbmNlbC5yZW1vdmUoKTsKCiAgLy8gRGlzYWJsZSB0aGUgaW5wdXQgZWxlbWVudCBzaW5jZSBmdXJ0aGVyIHBpY2tzIGFyZSBub3QgYWxsb3dlZC4KICBpbnB1dEVsZW1lbnQuZGlzYWJsZWQgPSB0cnVlOwoKICBpZiAoIWZpbGVzKSB7CiAgICByZXR1cm4gewogICAgICByZXNwb25zZTogewogICAgICAgIGFjdGlvbjogJ2NvbXBsZXRlJywKICAgICAgfQogICAgfTsKICB9CgogIGZvciAoY29uc3QgZmlsZSBvZiBmaWxlcykgewogICAgY29uc3QgbGkgPSBkb2N1bWVudC5jcmVhdGVFbGVtZW50KCdsaScpOwogICAgbGkuYXBwZW5kKHNwYW4oZmlsZS5uYW1lLCB7Zm9udFdlaWdodDogJ2JvbGQnfSkpOwogICAgbGkuYXBwZW5kKHNwYW4oCiAgICAgICAgYCgke2ZpbGUudHlwZSB8fCAnbi9hJ30pIC0gJHtmaWxlLnNpemV9IGJ5dGVzLCBgICsKICAgICAgICBgbGFzdCBtb2RpZmllZDogJHsKICAgICAgICAgICAgZmlsZS5sYXN0TW9kaWZpZWREYXRlID8gZmlsZS5sYXN0TW9kaWZpZWREYXRlLnRvTG9jYWxlRGF0ZVN0cmluZygpIDoKICAgICAgICAgICAgICAgICAgICAgICAgICAgICAgICAgICAgJ24vYSd9IC0gYCkpOwogICAgY29uc3QgcGVyY2VudCA9IHNwYW4oJzAlIGRvbmUnKTsKICAgIGxpLmFwcGVuZENoaWxkKHBlcmNlbnQpOwoKICAgIG91dHB1dEVsZW1lbnQuYXBwZW5kQ2hpbGQobGkpOwoKICAgIGNvbnN0IGZpbGVEYXRhUHJvbWlzZSA9IG5ldyBQcm9taXNlKChyZXNvbHZlKSA9PiB7CiAgICAgIGNvbnN0IHJlYWRlciA9IG5ldyBGaWxlUmVhZGVyKCk7CiAgICAgIHJlYWRlci5vbmxvYWQgPSAoZSkgPT4gewogICAgICAgIHJlc29sdmUoZS50YXJnZXQucmVzdWx0KTsKICAgICAgfTsKICAgICAgcmVhZGVyLnJlYWRBc0FycmF5QnVmZmVyKGZpbGUpOwogICAgfSk7CiAgICAvLyBXYWl0IGZvciB0aGUgZGF0YSB0byBiZSByZWFkeS4KICAgIGxldCBmaWxlRGF0YSA9IHlpZWxkIHsKICAgICAgcHJvbWlzZTogZmlsZURhdGFQcm9taXNlLAogICAgICByZXNwb25zZTogewogICAgICAgIGFjdGlvbjogJ2NvbnRpbnVlJywKICAgICAgfQogICAgfTsKCiAgICAvLyBVc2UgYSBjaHVua2VkIHNlbmRpbmcgdG8gYXZvaWQgbWVzc2FnZSBzaXplIGxpbWl0cy4gU2VlIGIvNjIxMTU2NjAuCiAgICBsZXQgcG9zaXRpb24gPSAwOwogICAgZG8gewogICAgICBjb25zdCBsZW5ndGggPSBNYXRoLm1pbihmaWxlRGF0YS5ieXRlTGVuZ3RoIC0gcG9zaXRpb24sIE1BWF9QQVlMT0FEX1NJWkUpOwogICAgICBjb25zdCBjaHVuayA9IG5ldyBVaW50OEFycmF5KGZpbGVEYXRhLCBwb3NpdGlvbiwgbGVuZ3RoKTsKICAgICAgcG9zaXRpb24gKz0gbGVuZ3RoOwoKICAgICAgY29uc3QgYmFzZTY0ID0gYnRvYShTdHJpbmcuZnJvbUNoYXJDb2RlLmFwcGx5KG51bGwsIGNodW5rKSk7CiAgICAgIHlpZWxkIHsKICAgICAgICByZXNwb25zZTogewogICAgICAgICAgYWN0aW9uOiAnYXBwZW5kJywKICAgICAgICAgIGZpbGU6IGZpbGUubmFtZSwKICAgICAgICAgIGRhdGE6IGJhc2U2NCwKICAgICAgICB9LAogICAgICB9OwoKICAgICAgbGV0IHBlcmNlbnREb25lID0gZmlsZURhdGEuYnl0ZUxlbmd0aCA9PT0gMCA/CiAgICAgICAgICAxMDAgOgogICAgICAgICAgTWF0aC5yb3VuZCgocG9zaXRpb24gLyBmaWxlRGF0YS5ieXRlTGVuZ3RoKSAqIDEwMCk7CiAgICAgIHBlcmNlbnQudGV4dENvbnRlbnQgPSBgJHtwZXJjZW50RG9uZX0lIGRvbmVgOwoKICAgIH0gd2hpbGUgKHBvc2l0aW9uIDwgZmlsZURhdGEuYnl0ZUxlbmd0aCk7CiAgfQoKICAvLyBBbGwgZG9uZS4KICB5aWVsZCB7CiAgICByZXNwb25zZTogewogICAgICBhY3Rpb246ICdjb21wbGV0ZScsCiAgICB9CiAgfTsKfQoKc2NvcGUuZ29vZ2xlID0gc2NvcGUuZ29vZ2xlIHx8IHt9OwpzY29wZS5nb29nbGUuY29sYWIgPSBzY29wZS5nb29nbGUuY29sYWIgfHwge307CnNjb3BlLmdvb2dsZS5jb2xhYi5fZmlsZXMgPSB7CiAgX3VwbG9hZEZpbGVzLAogIF91cGxvYWRGaWxlc0NvbnRpbnVlLAp9Owp9KShzZWxmKTsK",
              "ok": true,
              "headers": [
                [
                  "content-type",
                  "application/javascript"
                ]
              ],
              "status": 200,
              "status_text": ""
            }
          },
          "base_uri": "https://localhost:8080/",
          "height": 73
        },
        "id": "p1oGPCFfvZrb",
        "outputId": "27e1c867-a4fd-4bfe-98c4-b5480082cf4b"
      },
      "execution_count": null,
      "outputs": [
        {
          "output_type": "display_data",
          "data": {
            "text/plain": [
              "<IPython.core.display.HTML object>"
            ],
            "text/html": [
              "\n",
              "     <input type=\"file\" id=\"files-018ad780-cc50-4a93-9a5d-d1bbf9519d68\" name=\"files[]\" multiple disabled\n",
              "        style=\"border:none\" />\n",
              "     <output id=\"result-018ad780-cc50-4a93-9a5d-d1bbf9519d68\">\n",
              "      Upload widget is only available when the cell has been executed in the\n",
              "      current browser session. Please rerun this cell to enable.\n",
              "      </output>\n",
              "      <script src=\"/nbextensions/google.colab/files.js\"></script> "
            ]
          },
          "metadata": {}
        },
        {
          "output_type": "stream",
          "name": "stdout",
          "text": [
            "Saving Imagenes ropa.zip to Imagenes ropa (2).zip\n"
          ]
        }
      ]
    },
    {
      "cell_type": "code",
      "source": [
        "import zipfile\n",
        "import io\n",
        "data= zipfile.ZipFile(io.BytesIO(uploaded['Imagenes ropa.zip']),'r')\n",
        "data.extractall()"
      ],
      "metadata": {
        "id": "YWwkwDhcvryL"
      },
      "execution_count": null,
      "outputs": []
    },
    {
      "cell_type": "markdown",
      "source": [
        "**Cargamos las imagenens de las botas o \"Ankle boot\"**"
      ],
      "metadata": {
        "id": "junZ9W-S3gry"
      }
    },
    {
      "cell_type": "code",
      "source": [
        "import cv2\n",
        "import numpy as np\n",
        "import os\n",
        "import matplotlib.pyplot as plt\n",
        "\n",
        "\n",
        "\n",
        "ruta_botas= '/content/Imagenes ropa/botas' \n",
        "botas=[]\n",
        "img_size =28\n",
        "\n",
        "for img in os.listdir(ruta_botas):\n",
        "  img=cv2.imread(os.path.join(ruta_botas,img))\n",
        "  img_gray=cv2.cvtColor(img, cv2.COLOR_BGR2GRAY)\n",
        "  \n",
        "  #R, G, B = img[:,:,0], img[:,:,1], img[:,:,2]\n",
        "  #img_gray= 0.299 * R + 0.587 * G + 0.114 * B\n",
        "  #img_gray = np.dot(img[...,:3], [0.299, 0.587, 0.114])\n",
        "  img_gray_resize=cv2.resize(img_gray,(img_size,img_size))\n",
        "  \n",
        "  botas.append([img_gray_resize])\n",
        "  \n",
        "\n",
        "print(len(botas))  \n",
        "print(botas)"
      ],
      "metadata": {
        "colab": {
          "base_uri": "https://localhost:8080/"
        },
        "id": "hwbH1swvyStV",
        "outputId": "cc4d3b95-fc36-4532-9045-bd06427d31e1"
      },
      "execution_count": null,
      "outputs": [
        {
          "output_type": "stream",
          "name": "stdout",
          "text": [
            "3\n",
            "[[array([[255, 255, 255, 249, 203, 255, 255, 255, 255, 255, 255, 255, 255,\n",
            "        255, 255, 255, 255, 255, 255, 255, 255, 255, 255, 255, 255, 255,\n",
            "        255, 255],\n",
            "       [255, 255, 255,  10,  14, 250, 252, 252, 255, 252, 250, 255, 251,\n",
            "        255, 255, 255, 255, 255, 255, 255, 255, 255, 255, 255, 255, 255,\n",
            "        255, 255],\n",
            "       [255, 255, 255, 244,  27,  40,  28,  24,  39,  61,  44,  29,  27,\n",
            "        232, 255, 255, 255, 255, 255, 255, 255, 255, 255, 255, 255, 255,\n",
            "        255, 255],\n",
            "       [255, 255, 255, 250,  24,  22,  26,  72,  20,  19,  18,  29,  26,\n",
            "          9, 255, 255, 255, 255, 255, 255, 255, 255, 255, 255, 255, 255,\n",
            "        255, 255],\n",
            "       [255, 255, 255, 255,  27,  21,  21,  19,  16,  14,   6,  32,  19,\n",
            "         24,  38, 253, 253, 253, 254, 255, 255, 255, 255, 255, 255, 255,\n",
            "        255, 255],\n",
            "       [255, 255, 255, 255,  18,  20,  20,  17,  15,  13,  15,  15,  15,\n",
            "         16, 246, 254, 249, 250, 252, 237, 255, 255, 255, 255, 255, 255,\n",
            "        255, 255],\n",
            "       [255, 255, 255, 255,  70,  18,  19,  16,  13,  15,  16,  24,  27,\n",
            "          0, 251,  27, 255, 255, 255, 250, 250, 255, 255, 255, 255, 255,\n",
            "        255, 255],\n",
            "       [255, 255, 255, 255, 167,  21,  17,  17,  14,  14,  16,  19,   9,\n",
            "         16, 241, 249, 254, 255, 255, 255, 253, 255, 255, 255, 255, 255,\n",
            "        255, 255],\n",
            "       [255, 255, 255, 255, 114,  25,  17,  16,  16,  16,  16,  46,  21,\n",
            "         13,  16, 255,  39, 251, 255, 246, 254, 255, 255, 255, 255, 255,\n",
            "        255, 255],\n",
            "       [255, 255, 255, 255,  16,  22,  16,  17,  15,  14,  14,  38,  15,\n",
            "         59,  13, 249, 252, 247, 234, 248, 255, 255, 255, 255, 255, 255,\n",
            "        255, 255],\n",
            "       [255, 255, 255, 254,  19,  24,  18,  16,  17,  15,  14,   5,  25,\n",
            "         20,   4,   4, 255, 204, 255, 255, 255, 255, 255, 255, 255, 255,\n",
            "        255, 255],\n",
            "       [255, 255, 255, 250,  22,  20,  19,  15,  14,  14,  14,  17,  38,\n",
            "         11,   9,  10, 255, 255, 181, 244, 255, 255, 255, 255, 255, 255,\n",
            "        255, 255],\n",
            "       [255, 255, 255,  11,  20,  22,  24,  18,  16,  14,  16,  14,  57,\n",
            "          9,  45,  23, 255, 255, 255, 246, 255, 255, 255, 255, 255, 255,\n",
            "        255, 255],\n",
            "       [255, 255, 255,  27,  21,  22,  21,  18,  15,  16,  16,  15,  91,\n",
            "         25,  35,  20, 160, 254, 255, 255, 255, 255, 255, 255, 255, 255,\n",
            "        255, 255],\n",
            "       [255, 255, 255,  19,  21,  20,  12,  18,  15,  14,  15,  16,  12,\n",
            "          1,  16,  10,   3, 254, 255, 255, 255, 255, 255, 255, 255, 255,\n",
            "        255, 255],\n",
            "       [255, 255, 255,  43,  20,  19,  14,  18,  16,  17,  17,  14,  12,\n",
            "          0,  10,  18,  28, 240, 255, 255, 255, 255, 255, 255, 255, 255,\n",
            "        255, 255],\n",
            "       [255, 255, 255, 254,  13,  19,  18,  19,  19,  19,  18,  17,  17,\n",
            "         11,   4,  17,  14,  20, 255, 255, 255, 255, 255, 255, 255, 255,\n",
            "        255, 255],\n",
            "       [255, 255, 255, 247,  39,  34,  17,  16,  19,  19,  19,  18,  17,\n",
            "         17,  17,  14,   8,  17, 248, 255, 255, 255, 255, 255, 255, 255,\n",
            "        255, 255],\n",
            "       [255, 255, 255, 253,  40,  38,  48,  16,  18,  15,  17,  16,  15,\n",
            "         14,  31,  37,   9,  12,  20, 255, 255, 255, 255, 255, 255, 255,\n",
            "        255, 255],\n",
            "       [255, 255, 255, 255,  37,  38,  41,  13,  19,  17,  14,  16,  14,\n",
            "         11,  14,  12,  13,  14,  11, 236, 255, 255, 255, 255, 255, 255,\n",
            "        255, 255],\n",
            "       [255, 255, 255, 255,  39,  38,  42,  17,  15,  14,  15,  16,  16,\n",
            "         16,  16,  10,  15,  14,  13,  18,  35, 253, 255, 255, 255, 255,\n",
            "        255, 255],\n",
            "       [255, 255, 255, 255,  41,  36,  41,  16,  18,  37,  15,  14,  14,\n",
            "         17,  14,  13,  13,  13,  12,  11,  13,  16,  26, 184, 249, 255,\n",
            "        255, 255],\n",
            "       [255, 255, 254, 251,  36,  34,  40,  17,  17,  22,  29,  14,  16,\n",
            "         17,  15,  13,  15,  13,  13,  12,  12,  12,  13,  14,  13, 253,\n",
            "        255, 255],\n",
            "       [255, 254, 248, 234, 209,  26,  41,  12,  37, 169,  24,  16,  14,\n",
            "         15,  14,  16,  14,  14,  15,  15,  14,  14,  16,  16,  16, 248,\n",
            "        255, 255],\n",
            "       [255, 254, 253, 248, 239, 225, 217, 215, 214, 217, 225,  20,  14,\n",
            "         15,  14,  14,  14,  16,  17,  16,  16,  15,  14,  14,  15, 113,\n",
            "        254, 255],\n",
            "       [255, 255, 255, 254, 252, 247, 244, 243, 236, 231, 226,  44,  34,\n",
            "         12,  15,  12,  14,  13,  13,  14,   9,  24,  36,  34, 156, 237,\n",
            "        251, 254],\n",
            "       [255, 255, 255, 255, 255, 255, 253, 253, 250, 248, 245, 238, 203,\n",
            "         90,  46,  37,  28,  31,  29,  44,  77, 119, 158, 198, 228, 242,\n",
            "        251, 254],\n",
            "       [255, 255, 255, 255, 255, 255, 255, 255, 255, 255, 255, 254, 254,\n",
            "        249, 242, 229, 216, 203, 196, 200, 206, 218, 231, 241, 249, 253,\n",
            "        255, 255]], dtype=uint8)], [array([[230, 232, 233, 233, 234, 235, 235, 235, 236, 236, 236, 236, 236,\n",
            "        236, 236, 237, 237, 237, 237, 237, 237, 237, 237, 236, 236, 236,\n",
            "        235, 235],\n",
            "       [232, 232, 232, 233, 234, 235, 235, 235, 236, 236, 236, 236, 236,\n",
            "        237, 237, 237, 237, 237, 237, 237, 237, 237, 236, 236, 236, 235,\n",
            "        235, 235],\n",
            "       [232, 232, 233, 233, 234, 234, 235, 235, 235, 235, 236, 236, 237,\n",
            "        237, 237, 237, 237, 237, 237, 237, 237, 237, 237, 236, 236, 236,\n",
            "        235, 235],\n",
            "       [232, 232, 233, 233, 234, 234, 235, 235, 236, 236, 236, 237, 237,\n",
            "        237, 237, 237, 237, 237, 237, 237, 237, 237, 237, 236, 236, 236,\n",
            "        236, 235],\n",
            "       [233, 232, 232, 233, 234, 234, 235, 235, 236, 236, 236, 236, 236,\n",
            "        237, 237, 237, 237, 237, 237, 237, 237, 236, 236, 236, 236, 236,\n",
            "        235, 235],\n",
            "       [233, 233, 235, 234, 235, 235, 235, 235, 236, 236, 237, 236, 236,\n",
            "        236, 236, 237, 237, 237, 237, 237, 237, 236, 236, 236, 235, 235,\n",
            "        235, 235],\n",
            "       [233, 233, 234, 234, 235, 235, 235, 236, 236, 236, 236, 237, 237,\n",
            "        237, 237, 237, 237, 237, 237, 237, 237, 237, 236, 236, 236, 235,\n",
            "        235, 235],\n",
            "       [233, 233, 234, 235, 235, 235, 235, 236, 236, 236, 236, 237, 237,\n",
            "        237, 237, 237, 237, 237, 237, 237, 237, 236, 236, 236, 235, 235,\n",
            "        235, 235],\n",
            "       [233, 233, 234, 238, 236, 235, 236, 236, 236, 237, 237, 237, 237,\n",
            "        237, 237, 237, 237, 237, 237, 237, 237, 236, 236, 236, 235, 235,\n",
            "        235, 235],\n",
            "       [232, 233, 233, 222, 130, 235, 236, 236, 236, 236, 236, 237, 237,\n",
            "        237, 237, 237, 237, 237, 237, 237, 237, 237, 236, 236, 236, 235,\n",
            "        235, 235],\n",
            "       [232, 232, 233, 226, 166, 178, 228, 235, 239, 236, 120,  95, 235,\n",
            "        237, 237, 237, 237, 237, 237, 237, 237, 237, 236, 236, 236, 235,\n",
            "        235, 235],\n",
            "       [232, 232, 233, 233,  50,  59,  70,  32,  31,  30, 122, 102, 235,\n",
            "        237, 237, 236, 237, 237, 237, 237, 237, 236, 236, 236, 235, 235,\n",
            "        235, 234],\n",
            "       [230, 232, 233, 234, 217,  64,  59,  29,  29,  33, 106, 102, 237,\n",
            "        237, 237, 237, 237, 237, 237, 237, 237, 236, 236, 236, 235, 235,\n",
            "        235, 235],\n",
            "       [232, 232, 233, 234, 234,  66,  53,  29,  27,  32,  80,  95, 234,\n",
            "        237, 237, 237, 237, 237, 237, 237, 237, 237, 236, 236, 236, 236,\n",
            "        235, 235],\n",
            "       [232, 232, 232, 234, 234,  74,  54,  28,  27,  31, 103, 124, 219,\n",
            "        237, 238, 238, 238, 238, 238, 238, 238, 237, 237, 237, 237, 236,\n",
            "        236, 236],\n",
            "       [232, 233, 233, 235, 234,  70,  53,  27,  27,  29,  78, 148,  75,\n",
            "        240, 238, 238, 238, 238, 238, 238, 238, 238, 238, 238, 238, 237,\n",
            "        237, 237],\n",
            "       [233, 232, 234, 235, 240,  72,  54,  27,  27,  27,  18, 153,  59,\n",
            "        143, 241, 239, 239, 239, 239, 239, 239, 239, 238, 238, 238, 238,\n",
            "        238, 238],\n",
            "       [234, 234, 235, 236, 118,  75,  58,  27,  27,  28,  29,  68, 150,\n",
            "         68, 122, 237, 241, 241, 241, 241, 241, 241, 239, 239, 239, 239,\n",
            "        238, 238],\n",
            "       [235, 235, 235, 239,  82,  70,  80,  28,  27,  29,  28,  51, 114,\n",
            "        115,  68, 114, 233, 241, 242, 241, 241, 241, 241, 241, 239, 239,\n",
            "        239, 238],\n",
            "       [235, 236, 237, 236,  76,  76,  71,  26,  25,  29,  26,  57,  56,\n",
            "        133, 157,  73,  73, 149, 243, 240, 242, 241, 241, 241, 241, 241,\n",
            "        239, 238],\n",
            "       [236, 237, 238, 239,  76,  69,  61,  70,  70,  77,  61,  56,  59,\n",
            "         66, 116, 144, 147, 141, 121, 109, 117, 118, 129, 241, 241, 239,\n",
            "        239, 238],\n",
            "       [237, 237, 238, 239,  46,  36,  32,  35,  29,  34,  38,  52,  60,\n",
            "         57,  56,  65,  78, 135, 141, 145, 144,  99,  62, 129, 239, 239,\n",
            "        238, 238],\n",
            "       [236, 237, 238, 142,  38,  38,  38,  41,  45,  41,  44,  45,  45,\n",
            "         41,  32,  38,  54,  63,  73,  65,  52,  53,  48,  46, 237, 238,\n",
            "        237, 236],\n",
            "       [233, 233, 233, 126,  36,  36,  38,  39,  41,  39, 232, 232, 231,\n",
            "        231,  37,  44,  45,  50,  48,  49,  44,   4,  73, 236, 236, 235,\n",
            "        236, 235],\n",
            "       [235, 236, 232, 230, 218, 215, 221, 215, 220, 227, 227, 223, 226,\n",
            "        229, 222, 230, 226, 231, 233, 228, 233, 229, 230, 232, 236, 236,\n",
            "        235, 235],\n",
            "       [235, 235, 235, 235, 234, 234, 234, 235, 234, 234, 235, 235, 235,\n",
            "        235, 236, 236, 237, 239, 239, 239, 237, 238, 238, 237, 238, 238,\n",
            "        238, 237],\n",
            "       [235, 235, 235, 235, 235, 235, 235, 235, 234, 235, 236, 237, 237,\n",
            "        237, 238, 238, 238, 238, 239, 239, 238, 238, 238, 238, 238, 238,\n",
            "        238, 238],\n",
            "       [235, 235, 235, 235, 235, 236, 236, 236, 236, 236, 237, 237, 238,\n",
            "        238, 238, 238, 238, 239, 238, 238, 237, 237, 237, 237, 238, 238,\n",
            "        238, 238]], dtype=uint8)], [array([[255, 255, 255, 255, 255, 255, 255, 255, 255, 255, 255, 255, 255,\n",
            "        255, 255, 255, 255, 255, 255, 255, 255, 255, 255, 255, 255, 255,\n",
            "        255, 255],\n",
            "       [255, 255, 255, 255, 255, 255, 255, 255, 255, 255, 255, 255, 255,\n",
            "        255, 255, 255, 255, 255, 255, 255, 255, 255, 255, 255, 255, 255,\n",
            "        255, 255],\n",
            "       [255, 255, 255, 255, 255, 255, 255, 255, 255, 255, 255, 255, 255,\n",
            "        255, 255, 255, 255, 255, 255, 255, 255, 255, 255, 255, 255, 255,\n",
            "        255, 255],\n",
            "       [255, 255, 255, 255, 255, 255, 255, 255, 255, 255, 255, 255, 255,\n",
            "        255, 255, 255, 255, 255, 255, 255, 255, 255, 255, 255, 255, 255,\n",
            "        255, 255],\n",
            "       [255, 255, 255, 255, 255, 255, 255, 255, 255, 255, 255, 255, 255,\n",
            "        255, 255, 255, 255, 255, 255, 255, 255, 255, 255, 255, 255, 255,\n",
            "        255, 255],\n",
            "       [255, 255, 255, 255, 255, 255, 255, 255, 255, 255, 255, 255, 255,\n",
            "        255, 255, 255, 255, 255, 255, 255, 255, 255, 255, 255, 255, 255,\n",
            "        255, 255],\n",
            "       [255, 255, 255, 255, 255, 255, 255, 255, 255, 255, 255, 255, 255,\n",
            "        255, 255, 255, 255, 255, 255, 255, 255, 255, 255, 255, 255, 255,\n",
            "        255, 255],\n",
            "       [255, 255, 255, 255, 255, 255, 255, 254, 255, 255, 255, 255, 255,\n",
            "        255, 255, 255, 255, 255, 255, 255, 255, 255, 255, 255, 255, 255,\n",
            "        255, 255],\n",
            "       [255, 255, 255, 255, 255, 255, 254,  15, 252, 255, 255, 255, 255,\n",
            "        255, 255, 255, 255, 255, 255, 255, 255, 255, 255, 255, 255, 255,\n",
            "        255, 255],\n",
            "       [255, 255, 255, 255, 255, 255, 254,  42, 251, 255, 255, 255, 255,\n",
            "        255, 255, 255, 255, 255, 255, 255, 255, 255, 255, 255, 255, 255,\n",
            "        255, 255],\n",
            "       [255, 255, 255, 255, 255, 255, 255,  27,  31, 237, 220,  66,  93,\n",
            "        255, 255, 255, 255, 255, 255, 255, 255, 255, 255, 255, 255, 255,\n",
            "        255, 255],\n",
            "       [255, 255, 255, 255, 255, 255, 255,  23,  13,  17,  16,  19,  76,\n",
            "        252, 255, 255, 255, 255, 255, 255, 255, 255, 255, 255, 255, 255,\n",
            "        255, 255],\n",
            "       [255, 255, 255, 255, 255, 255, 255,  14,  16,  17,  14,  27,  86,\n",
            "        253, 255, 255, 255, 255, 255, 255, 255, 255, 255, 255, 255, 255,\n",
            "        255, 255],\n",
            "       [255, 255, 255, 255, 255, 255, 255,  15,  17,  17,  16,  11,  33,\n",
            "        254, 255, 255, 255, 255, 255, 255, 255, 255, 255, 255, 255, 255,\n",
            "        255, 255],\n",
            "       [255, 255, 255, 255, 255, 255, 255,  25,  17,  17,  16,  33,  33,\n",
            "         43, 255, 255, 255, 255, 255, 255, 255, 255, 255, 255, 255, 255,\n",
            "        255, 255],\n",
            "       [255, 255, 255, 255, 255, 255, 254,  46,  19,  18,  18,  20,  36,\n",
            "         74, 240, 255, 255, 255, 255, 255, 255, 255, 255, 255, 255, 255,\n",
            "        255, 255],\n",
            "       [255, 255, 255, 255, 255, 255, 201,  57,  21,  21,  21,  17,  24,\n",
            "         40,  40, 252, 255, 255, 255, 255, 255, 255, 255, 255, 255, 255,\n",
            "        255, 255],\n",
            "       [255, 255, 255, 255, 255, 255, 111,  36,  51,  43,  21,   4,  25,\n",
            "         30,  83,  21, 244, 255, 255, 255, 255, 255, 255, 255, 255, 255,\n",
            "        255, 255],\n",
            "       [255, 255, 255, 255, 255, 251,  90,   2,  28,  21,  25,  19,  29,\n",
            "         31,  58,  55,  30, 251, 255, 255, 255, 255, 255, 255, 255, 255,\n",
            "        255, 255],\n",
            "       [255, 255, 255, 255, 255, 252,  21,  22,  37,  95,   2,  27,  37,\n",
            "         40,  37,  42,  33,  30,  51,  60,  67, 252, 255, 255, 255, 255,\n",
            "        255, 255],\n",
            "       [255, 255, 255, 255, 255, 252,  26,  36,  28,  19,  32,  51,   4,\n",
            "         39,  31,  28,  30,  35,  31,  48, 102, 246, 255, 255, 255, 255,\n",
            "        255, 255],\n",
            "       [255, 255, 255, 255, 255, 255,  25,  32,  28,  30,  27,  22,  34,\n",
            "        110,  37,  23,  33,  33,  30, 141, 107,  49, 254, 255, 255, 255,\n",
            "        255, 255],\n",
            "       [255, 255, 255, 255, 255, 252, 185,  68, 136,  30,  53, 127,   5,\n",
            "         21,  20,  18,  18,  22,  25,  30,  33,  32, 255, 255, 255, 255,\n",
            "        255, 255],\n",
            "       [255, 255, 255, 255, 255, 254, 253, 249, 247, 230, 244, 248, 215,\n",
            "        190, 175, 106, 174, 106, 182, 185, 182, 219, 250, 255, 255, 255,\n",
            "        255, 255],\n",
            "       [255, 255, 255, 255, 255, 255, 255, 255, 255, 255, 255, 255, 254,\n",
            "        253, 252, 251, 254, 250, 253, 253, 254, 255, 255, 255, 255, 255,\n",
            "        255, 255],\n",
            "       [255, 255, 255, 255, 255, 255, 255, 255, 255, 255, 255, 255, 255,\n",
            "        255, 255, 255, 255, 255, 255, 255, 255, 255, 255, 255, 255, 255,\n",
            "        255, 255],\n",
            "       [255, 255, 255, 255, 255, 255, 255, 255, 255, 255, 255, 255, 255,\n",
            "        255, 255, 255, 255, 255, 255, 255, 255, 255, 255, 255, 255, 255,\n",
            "        255, 255],\n",
            "       [255, 255, 255, 255, 255, 255, 255, 255, 255, 255, 255, 255, 255,\n",
            "        255, 255, 255, 255, 255, 255, 255, 255, 255, 255, 255, 255, 255,\n",
            "        255, 255]], dtype=uint8)]]\n"
          ]
        }
      ]
    },
    {
      "cell_type": "markdown",
      "source": [
        "**Cargamos las imagenes de las sandalias o \"Sandals\"**"
      ],
      "metadata": {
        "id": "_Cs6y8m93yIJ"
      }
    },
    {
      "cell_type": "code",
      "source": [
        "ruta_sandalias= '/content/Imagenes ropa/sandalias' \n",
        "sandalias=[]\n",
        "img_size =28\n",
        "\n",
        "for img in os.listdir(ruta_sandalias):\n",
        "  img=cv2.imread(os.path.join(ruta_sandalias,img))\n",
        "  img_gray=cv2.cvtColor(img, cv2.COLOR_BGR2GRAY)\n",
        "  \n",
        "  #R, G, B = img[:,:,0], img[:,:,1], img[:,:,2]\n",
        "  #img_gray= 0.299 * R + 0.587 * G + 0.114 * B\n",
        "  #img_gray = np.dot(img[...,:3], [0.299, 0.587, 0.114])\n",
        "  img_gray_resize=cv2.resize(img_gray,(img_size,img_size))\n",
        "  \n",
        "  sandalias.append([img_gray_resize])\n",
        "  \n",
        "\n",
        "print(len(sandalias))  "
      ],
      "metadata": {
        "colab": {
          "base_uri": "https://localhost:8080/"
        },
        "id": "akFqtfreTJvo",
        "outputId": "6be86001-3196-41cc-fc15-06b745cf6ba8"
      },
      "execution_count": null,
      "outputs": [
        {
          "output_type": "stream",
          "name": "stdout",
          "text": [
            "4\n"
          ]
        }
      ]
    },
    {
      "cell_type": "markdown",
      "source": [
        "**Cargamos las imagenes de los pantalones o \"Trouser\"**"
      ],
      "metadata": {
        "id": "YlMoUe6u33Uy"
      }
    },
    {
      "cell_type": "code",
      "source": [
        "ruta_pantalones= '/content/Imagenes ropa/pantalones' \n",
        "pantalones=[]\n",
        "img_size =28\n",
        "\n",
        "for img in os.listdir(ruta_pantalones):\n",
        "  img=cv2.imread(os.path.join(ruta_pantalones,img))\n",
        "  img_gray=cv2.cvtColor(img, cv2.COLOR_BGR2GRAY)\n",
        "  \n",
        "  #R, G, B = img[:,:,0], img[:,:,1], img[:,:,2]\n",
        "  #img_gray= 0.299 * R + 0.587 * G + 0.114 * B\n",
        "  #img_gray = np.dot(img[...,:3], [0.299, 0.587, 0.114])\n",
        "  img_gray_resize=cv2.resize(img_gray,(img_size,img_size))\n",
        "  \n",
        "  pantalones.append([img_gray_resize])\n",
        "\n",
        "print(len(pantalones))  "
      ],
      "metadata": {
        "colab": {
          "base_uri": "https://localhost:8080/"
        },
        "id": "PZ3bNbqb4A7C",
        "outputId": "5511bb92-3ca6-4336-e58b-0e0adf13ba83"
      },
      "execution_count": null,
      "outputs": [
        {
          "output_type": "stream",
          "name": "stdout",
          "text": [
            "3\n"
          ]
        }
      ]
    },
    {
      "cell_type": "markdown",
      "source": [
        "**Cargamos las imagenes de las remeras o \"T-shirt/top\"**"
      ],
      "metadata": {
        "id": "tD-LlRm688nF"
      }
    },
    {
      "cell_type": "code",
      "source": [
        "ruta_remeras= '/content/Imagenes ropa/remeras' \n",
        "remeras=[]\n",
        "img_size =28\n",
        "\n",
        "for img in os.listdir(ruta_remeras):\n",
        "  img=cv2.imread(os.path.join(ruta_remeras,img))\n",
        "  img_gray=cv2.cvtColor(img, cv2.COLOR_BGR2GRAY)\n",
        "  \n",
        "  #R, G, B = img[:,:,0], img[:,:,1], img[:,:,2]\n",
        "  #img_gray= 0.299 * R + 0.587 * G + 0.114 * B\n",
        "  #img_gray = np.dot(img[...,:3], [0.299, 0.587, 0.114])\n",
        "  img_gray_resize=cv2.resize(img_gray,(img_size,img_size))\n",
        "  \n",
        "  remeras.append([img_gray_resize])\n",
        "\n",
        "print(len(remeras))  "
      ],
      "metadata": {
        "colab": {
          "base_uri": "https://localhost:8080/"
        },
        "id": "srTbgpKR9IrM",
        "outputId": "c0e7912d-9f92-44f7-ee52-091327d545fc"
      },
      "execution_count": null,
      "outputs": [
        {
          "output_type": "stream",
          "name": "stdout",
          "text": [
            "4\n"
          ]
        }
      ]
    },
    {
      "cell_type": "markdown",
      "source": [
        "**Cargamos las imagenes de las camisas o \"Shirt**"
      ],
      "metadata": {
        "id": "aNHs6nQg_dI3"
      }
    },
    {
      "cell_type": "code",
      "source": [
        "ruta_camisas= '/content/Imagenes ropa/camisas' \n",
        "camisas=[]\n",
        "img_size =28\n",
        "\n",
        "for img in os.listdir(ruta_camisas):\n",
        "  img=cv2.imread(os.path.join(ruta_camisas,img))\n",
        "  img_gray=cv2.cvtColor(img, cv2.COLOR_BGR2GRAY)\n",
        "  \n",
        "  #R, G, B = img[:,:,0], img[:,:,1], img[:,:,2]\n",
        "  #img_gray= 0.299 * R + 0.587 * G + 0.114 * B\n",
        "  #img_gray = np.dot(img[...,:3], [0.299, 0.587, 0.114])\n",
        "  img_gray_resize=cv2.resize(img_gray,(img_size,img_size))\n",
        "  \n",
        "  camisas.append([img_gray_resize])\n",
        "\n",
        "print(len(camisas))  "
      ],
      "metadata": {
        "colab": {
          "base_uri": "https://localhost:8080/"
        },
        "id": "ZNp6NjNB_h9u",
        "outputId": "29810624-154d-45b8-865c-67603c96729f"
      },
      "execution_count": null,
      "outputs": [
        {
          "output_type": "stream",
          "name": "stdout",
          "text": [
            "3\n"
          ]
        }
      ]
    },
    {
      "cell_type": "markdown",
      "source": [
        "**Cargamos las imagenes de los vestidos o \"Dress\"**"
      ],
      "metadata": {
        "id": "Uq69NpzlAvjX"
      }
    },
    {
      "cell_type": "code",
      "source": [
        "ruta_vestidos= '/content/Imagenes ropa/vestidos' \n",
        "vestidos=[]\n",
        "img_size =28\n",
        "\n",
        "for img in os.listdir(ruta_vestidos):\n",
        "  img=cv2.imread(os.path.join(ruta_vestidos,img))\n",
        "  img_gray=cv2.cvtColor(img, cv2.COLOR_BGR2GRAY)\n",
        "  \n",
        "  #R, G, B = img[:,:,0], img[:,:,1], img[:,:,2]\n",
        "  #img_gray= 0.299 * R + 0.587 * G + 0.114 * B\n",
        "  #img_gray = np.dot(img[...,:3], [0.299, 0.587, 0.114])\n",
        "  img_gray_resize=cv2.resize(img_gray,(img_size,img_size))\n",
        "  \n",
        "  vestidos.append([img_gray_resize])\n",
        "\n",
        "print(len(vestidos)) "
      ],
      "metadata": {
        "colab": {
          "base_uri": "https://localhost:8080/"
        },
        "id": "Fpq8R8sMA9YP",
        "outputId": "745e69b6-1c55-42d4-a4f1-19acf75fb2ae"
      },
      "execution_count": null,
      "outputs": [
        {
          "output_type": "stream",
          "name": "stdout",
          "text": [
            "3\n"
          ]
        }
      ]
    },
    {
      "cell_type": "markdown",
      "source": [
        "**Cargamos las imagenes de las carteras o \"Bag\"**"
      ],
      "metadata": {
        "id": "do6lSdtsGc7K"
      }
    },
    {
      "cell_type": "code",
      "source": [
        "ruta_carteras= '/content/Imagenes ropa/carteras' \n",
        "carteras=[]\n",
        "img_size =28\n",
        "\n",
        "for img in os.listdir(ruta_carteras):\n",
        "  img=cv2.imread(os.path.join(ruta_carteras,img))\n",
        "  img_gray=cv2.cvtColor(img, cv2.COLOR_BGR2GRAY)\n",
        "  \n",
        "  #R, G, B = img[:,:,0], img[:,:,1], img[:,:,2]\n",
        "  #img_gray= 0.299 * R + 0.587 * G + 0.114 * B\n",
        "  #img_gray = np.dot(img[...,:3], [0.299, 0.587, 0.114])\n",
        "  img_gray_resize=cv2.resize(img_gray,(img_size,img_size))\n",
        "  \n",
        "  carteras.append([img_gray_resize])\n",
        "\n",
        "print(len(carteras)) "
      ],
      "metadata": {
        "colab": {
          "base_uri": "https://localhost:8080/"
        },
        "id": "bY0MEivHGefj",
        "outputId": "61f339c5-d272-4446-d81d-fac91865795f"
      },
      "execution_count": null,
      "outputs": [
        {
          "output_type": "stream",
          "name": "stdout",
          "text": [
            "3\n"
          ]
        }
      ]
    },
    {
      "cell_type": "markdown",
      "source": [
        "**Cargamos las imagenes de los \"pullovers\"**"
      ],
      "metadata": {
        "id": "MA0a4AzuKdNc"
      }
    },
    {
      "cell_type": "code",
      "source": [
        "ruta_pullovers= '/content/Imagenes ropa/pullover' \n",
        "pullovers=[]\n",
        "img_size =28\n",
        "\n",
        "for img in os.listdir(ruta_pullovers):\n",
        "  img=cv2.imread(os.path.join(ruta_pullovers,img))\n",
        "  img_gray=cv2.cvtColor(img, cv2.COLOR_BGR2GRAY)\n",
        "  \n",
        "  #R, G, B = img[:,:,0], img[:,:,1], img[:,:,2]\n",
        "  #img_gray= 0.299 * R + 0.587 * G + 0.114 * B\n",
        "  #img_gray = np.dot(img[...,:3], [0.299, 0.587, 0.114])\n",
        "  img_gray_resize=cv2.resize(img_gray,(img_size,img_size))\n",
        "  \n",
        "  pullovers.append([img_gray_resize])\n",
        "\n",
        "print(len(pullovers)) "
      ],
      "metadata": {
        "colab": {
          "base_uri": "https://localhost:8080/"
        },
        "id": "sbs0QqzQKliF",
        "outputId": "3d11ee92-93ea-40f8-8d33-99399088c5df"
      },
      "execution_count": null,
      "outputs": [
        {
          "output_type": "stream",
          "name": "stdout",
          "text": [
            "3\n"
          ]
        }
      ]
    },
    {
      "cell_type": "markdown",
      "source": [
        "**Cargamos las imagenes de los sacos o \"Coat\"**"
      ],
      "metadata": {
        "id": "HppN5ihFLgGu"
      }
    },
    {
      "cell_type": "code",
      "source": [
        "ruta_sacos= '/content/Imagenes ropa/sacos' \n",
        "sacos=[]\n",
        "img_size =28\n",
        "\n",
        "for img in os.listdir(ruta_sacos):\n",
        "  img=cv2.imread(os.path.join(ruta_sacos,img))\n",
        "  img_gray=cv2.cvtColor(img, cv2.COLOR_BGR2GRAY)\n",
        "  \n",
        "  #R, G, B = img[:,:,0], img[:,:,1], img[:,:,2]\n",
        "  #img_gray= 0.299 * R + 0.587 * G + 0.114 * B\n",
        "  #img_gray = np.dot(img[...,:3], [0.299, 0.587, 0.114])\n",
        "  img_gray_resize=cv2.resize(img_gray,(img_size,img_size))\n",
        "  \n",
        "  sacos.append([img_gray_resize])\n",
        "\n",
        "print(len(sacos))"
      ],
      "metadata": {
        "colab": {
          "base_uri": "https://localhost:8080/"
        },
        "id": "JcN7fvGuLkfm",
        "outputId": "5a2be185-ace3-4cfe-fe7d-c3dec4ff8981"
      },
      "execution_count": null,
      "outputs": [
        {
          "output_type": "stream",
          "name": "stdout",
          "text": [
            "3\n"
          ]
        }
      ]
    },
    {
      "cell_type": "markdown",
      "source": [
        "**Cargamos las imagenes de las zapatillas o \"Sneaker\"**"
      ],
      "metadata": {
        "id": "CxDpD_8uML2W"
      }
    },
    {
      "cell_type": "code",
      "source": [
        "ruta_zapatillas= '/content/Imagenes ropa/zapatillas' \n",
        "zapatillas=[]\n",
        "img_size =28\n",
        "\n",
        "for img in os.listdir(ruta_zapatillas):\n",
        "  img=cv2.imread(os.path.join(ruta_zapatillas,img))\n",
        "  img_gray=cv2.cvtColor(img, cv2.COLOR_BGR2GRAY)\n",
        "  \n",
        "  #R, G, B = img[:,:,0], img[:,:,1], img[:,:,2]\n",
        "  #img_gray= 0.299 * R + 0.587 * G + 0.114 * B\n",
        "  #img_gray = np.dot(img[...,:3], [0.299, 0.587, 0.114])\n",
        "  img_gray_resize=cv2.resize(img_gray,(img_size,img_size))\n",
        "  \n",
        "  zapatillas.append([img_gray_resize])\n",
        "\n",
        "print(len(zapatillas))"
      ],
      "metadata": {
        "colab": {
          "base_uri": "https://localhost:8080/"
        },
        "id": "hzO_Lq8CMUx2",
        "outputId": "460275cc-3d35-4515-c848-d3d411becdf7"
      },
      "execution_count": null,
      "outputs": [
        {
          "output_type": "stream",
          "name": "stdout",
          "text": [
            "4\n"
          ]
        }
      ]
    },
    {
      "cell_type": "code",
      "source": [
        "#botas=np.squeeze(botas_training)\n",
        "#sandalias=np.squeeze(sandalias_training)"
      ],
      "metadata": {
        "id": "J-e9Ozyi2Ja_"
      },
      "execution_count": null,
      "outputs": []
    },
    {
      "cell_type": "code",
      "source": [
        "botas=np.array(botas)\n",
        "print(botas.shape)\n",
        "sandalias=np.array(sandalias)\n",
        "print(sandalias.shape)\n",
        "pantalones=np.array(pantalones)\n",
        "print(pantalones.shape)\n",
        "remeras=np.array(remeras)\n",
        "print(remeras.shape)\n",
        "camisas=np.array(camisas)\n",
        "print(camisas.shape)\n",
        "vestidos=np.array(vestidos)\n",
        "print(vestidos.shape)\n",
        "carteras=np.array(carteras)\n",
        "print(carteras.shape)\n",
        "pullovers=np.array(pullovers)\n",
        "print(pullovers.shape)\n",
        "sacos=np.array(sacos)\n",
        "print(sacos.shape)\n",
        "zapatillas=np.array(zapatillas)\n",
        "print(zapatillas.shape)\n"
      ],
      "metadata": {
        "colab": {
          "base_uri": "https://localhost:8080/"
        },
        "id": "xi7IOGyYUpUJ",
        "outputId": "1b1fb826-97a1-43ef-f874-95e04babcbc8"
      },
      "execution_count": null,
      "outputs": [
        {
          "output_type": "stream",
          "name": "stdout",
          "text": [
            "(3, 1, 28, 28)\n",
            "(4, 1, 28, 28)\n",
            "(3, 1, 28, 28)\n",
            "(4, 1, 28, 28)\n",
            "(3, 1, 28, 28)\n",
            "(3, 1, 28, 28)\n",
            "(3, 1, 28, 28)\n",
            "(3, 1, 28, 28)\n",
            "(3, 1, 28, 28)\n",
            "(4, 1, 28, 28)\n"
          ]
        }
      ]
    },
    {
      "cell_type": "code",
      "source": [
        "botas=np.squeeze(botas)\n",
        "print(botas.shape)\n",
        "sandalias=np.squeeze(sandalias)\n",
        "print(sandalias.shape)\n",
        "pantalones=np.squeeze(pantalones)\n",
        "print(pantalones.shape)\n",
        "remeras=np.squeeze(remeras)\n",
        "print(remeras.shape)\n",
        "camisas=np.squeeze(camisas)\n",
        "print(camisas.shape)\n",
        "vestidos=np.squeeze(vestidos)\n",
        "print(vestidos.shape)\n",
        "carteras=np.squeeze(carteras)\n",
        "print(carteras.shape)\n",
        "pullovers=np.squeeze(pullovers)\n",
        "print(pullovers.shape)\n",
        "sacos=np.squeeze(sacos)\n",
        "print(sacos.shape)\n",
        "zapatillas=np.squeeze(zapatillas)\n",
        "print(zapatillas.shape)\n",
        "\n"
      ],
      "metadata": {
        "colab": {
          "base_uri": "https://localhost:8080/"
        },
        "id": "kgH94NOrVPPx",
        "outputId": "32410157-f42b-4a93-d26f-1b29caa8af47"
      },
      "execution_count": null,
      "outputs": [
        {
          "output_type": "stream",
          "name": "stdout",
          "text": [
            "(3, 28, 28)\n",
            "(4, 28, 28)\n",
            "(3, 28, 28)\n",
            "(4, 28, 28)\n",
            "(3, 28, 28)\n",
            "(3, 28, 28)\n",
            "(3, 28, 28)\n",
            "(3, 28, 28)\n",
            "(3, 28, 28)\n",
            "(4, 28, 28)\n"
          ]
        }
      ]
    },
    {
      "cell_type": "code",
      "source": [
        "imagenes=np.concatenate([remeras,pantalones,pullovers,vestidos,sacos,sandalias,camisas,zapatillas,carteras,botas])\n",
        "print(len(imagenes))\n",
        "Imagenes=np.array(imagenes)\n",
        "print(Imagenes.shape)"
      ],
      "metadata": {
        "colab": {
          "base_uri": "https://localhost:8080/"
        },
        "id": "ytaeizdjUBZo",
        "outputId": "430086f2-3418-4ccf-fa3e-c0b5756098a9"
      },
      "execution_count": null,
      "outputs": [
        {
          "output_type": "stream",
          "name": "stdout",
          "text": [
            "33\n",
            "(33, 28, 28)\n"
          ]
        }
      ]
    },
    {
      "cell_type": "code",
      "source": [],
      "metadata": {
        "id": "tjQa55NsV5o4"
      },
      "execution_count": null,
      "outputs": []
    },
    {
      "cell_type": "code",
      "source": [],
      "metadata": {
        "id": "1Kf9JWKFVq3x"
      },
      "execution_count": null,
      "outputs": []
    },
    {
      "cell_type": "code",
      "source": [
        "Imagenes=Imagenes/255.0"
      ],
      "metadata": {
        "id": "Wc-lborz8HPx"
      },
      "execution_count": null,
      "outputs": []
    },
    {
      "cell_type": "code",
      "source": [
        "plt.figure()\n",
        "plt.imshow(Imagenes[0])\n",
        "plt.colorbar()\n",
        "plt.grid(False)\n",
        "plt.show()"
      ],
      "metadata": {
        "colab": {
          "base_uri": "https://localhost:8080/",
          "height": 269
        },
        "id": "rb7IerXV1a6P",
        "outputId": "1c8687e2-c157-4cce-e8d5-e4760673ba76"
      },
      "execution_count": null,
      "outputs": [
        {
          "output_type": "display_data",
          "data": {
            "text/plain": [
              "<Figure size 432x288 with 2 Axes>"
            ],
            "image/png": "[encoded data removed]"
          },
          "metadata": {
            "needs_background": "light"
          }
        }
      ]
    },
    {
      "cell_type": "markdown",
      "source": [
        "**Etiqutado de las imagenes**"
      ],
      "metadata": {
        "id": "XfWK4IhbNW98"
      }
    },
    {
      "cell_type": "markdown",
      "source": [
        "***Etiquetado de las remeras (0)***"
      ],
      "metadata": {
        "id": "rTXSIxnI9q4e"
      }
    },
    {
      "cell_type": "code",
      "source": [
        "etiquetas_remeras= np.repeat(0,remeras.shape[0])\n",
        "print(len(etiquetas_remeras))\n",
        "print(etiquetas_remeras)"
      ],
      "metadata": {
        "colab": {
          "base_uri": "https://localhost:8080/"
        },
        "id": "3niZi-da9z6e",
        "outputId": "6f623c80-8030-460c-f937-2aab22304718"
      },
      "execution_count": null,
      "outputs": [
        {
          "output_type": "stream",
          "name": "stdout",
          "text": [
            "4\n",
            "[0 0 0 0]\n"
          ]
        }
      ]
    },
    {
      "cell_type": "markdown",
      "source": [
        "***Etiquetado de los pantalones (1)***"
      ],
      "metadata": {
        "id": "6D1vbcJV5Ccq"
      }
    },
    {
      "cell_type": "code",
      "source": [
        "etiquetas_pantalones= np.repeat(1,pantalones.shape[0])\n",
        "print(len(etiquetas_pantalones))\n",
        "print(etiquetas_pantalones)"
      ],
      "metadata": {
        "colab": {
          "base_uri": "https://localhost:8080/"
        },
        "id": "g9-dXU715IWS",
        "outputId": "56d7c9eb-d908-45c2-9d84-564790cb5da9"
      },
      "execution_count": null,
      "outputs": [
        {
          "output_type": "stream",
          "name": "stdout",
          "text": [
            "3\n",
            "[1 1 1]\n"
          ]
        }
      ]
    },
    {
      "cell_type": "markdown",
      "source": [
        "***Etiquetado de los pullovers (2)***"
      ],
      "metadata": {
        "id": "3Ph-14IyJhWE"
      }
    },
    {
      "cell_type": "code",
      "source": [
        "etiquetas_pullovers= np.repeat(2,pullovers.shape[0])\n",
        "print(len(etiquetas_pullovers))\n",
        "print(etiquetas_pullovers)"
      ],
      "metadata": {
        "colab": {
          "base_uri": "https://localhost:8080/"
        },
        "id": "eHp4vVpxJlIc",
        "outputId": "7c2691e5-f1db-49ce-fe99-7bce09d230f0"
      },
      "execution_count": null,
      "outputs": [
        {
          "output_type": "stream",
          "name": "stdout",
          "text": [
            "3\n",
            "[2 2 2]\n"
          ]
        }
      ]
    },
    {
      "cell_type": "markdown",
      "source": [
        "***Etiquetado de los vestidos (3)***"
      ],
      "metadata": {
        "id": "JMc12pQOBhfp"
      }
    },
    {
      "cell_type": "code",
      "source": [
        "etiquetas_vestidos= np.repeat(3,vestidos.shape[0])\n",
        "print(len(etiquetas_vestidos))\n",
        "print(etiquetas_vestidos)"
      ],
      "metadata": {
        "colab": {
          "base_uri": "https://localhost:8080/"
        },
        "id": "mQnzsFoeBkZ4",
        "outputId": "81e92f3c-f60a-4fa4-e7f6-6034441b606a"
      },
      "execution_count": null,
      "outputs": [
        {
          "output_type": "stream",
          "name": "stdout",
          "text": [
            "3\n",
            "[3 3 3]\n"
          ]
        }
      ]
    },
    {
      "cell_type": "markdown",
      "source": [
        "***Etiquetado de los sacos (4)***"
      ],
      "metadata": {
        "id": "cLxs9nUuJyXd"
      }
    },
    {
      "cell_type": "code",
      "source": [
        "etiquetas_sacos= np.repeat(4,sacos.shape[0])\n",
        "print(len(etiquetas_sacos))\n",
        "print(etiquetas_sacos)"
      ],
      "metadata": {
        "colab": {
          "base_uri": "https://localhost:8080/"
        },
        "id": "8OhqyIGLJ1D1",
        "outputId": "467fc72d-04cf-493e-c701-5b232b78dbaa"
      },
      "execution_count": null,
      "outputs": [
        {
          "output_type": "stream",
          "name": "stdout",
          "text": [
            "3\n",
            "[4 4 4]\n"
          ]
        }
      ]
    },
    {
      "cell_type": "markdown",
      "source": [
        "***Etiquetado de las sandalias (5)***"
      ],
      "metadata": {
        "id": "ex_3v1zN49Cb"
      }
    },
    {
      "cell_type": "code",
      "source": [
        "etiquetas_sandalias= np.repeat(5,sandalias.shape[0])\n",
        "print(len(etiquetas_sandalias))\n",
        "print(etiquetas_sandalias)"
      ],
      "metadata": {
        "colab": {
          "base_uri": "https://localhost:8080/"
        },
        "id": "DiBjOvVUWQ6Z",
        "outputId": "38e05f0f-b518-46c5-f118-4e7a1cf2c12c"
      },
      "execution_count": null,
      "outputs": [
        {
          "output_type": "stream",
          "name": "stdout",
          "text": [
            "4\n",
            "[5 5 5 5]\n"
          ]
        }
      ]
    },
    {
      "cell_type": "markdown",
      "source": [
        "***Etiquetado de las camisas (6)***"
      ],
      "metadata": {
        "id": "CJC7fSihALgn"
      }
    },
    {
      "cell_type": "code",
      "source": [
        "etiquetas_camisas= np.repeat(6,camisas.shape[0])\n",
        "print(len(etiquetas_camisas))\n",
        "print(etiquetas_camisas)"
      ],
      "metadata": {
        "colab": {
          "base_uri": "https://localhost:8080/"
        },
        "id": "chQsrrGHAUrX",
        "outputId": "aacc259b-761a-49b8-dd8d-3c396a20faf8"
      },
      "execution_count": null,
      "outputs": [
        {
          "output_type": "stream",
          "name": "stdout",
          "text": [
            "3\n",
            "[6 6 6]\n"
          ]
        }
      ]
    },
    {
      "cell_type": "markdown",
      "source": [
        "***Etiquetado de las zapatillas (7)***"
      ],
      "metadata": {
        "id": "OEoNcz_qKATs"
      }
    },
    {
      "cell_type": "code",
      "source": [
        "etiquetas_zapatillas= np.repeat(7,zapatillas.shape[0])\n",
        "print(len(etiquetas_zapatillas))\n",
        "print(etiquetas_zapatillas)"
      ],
      "metadata": {
        "colab": {
          "base_uri": "https://localhost:8080/"
        },
        "id": "fWE9OSoVKEYU",
        "outputId": "dfd90373-1439-4968-c325-d750398b276f"
      },
      "execution_count": null,
      "outputs": [
        {
          "output_type": "stream",
          "name": "stdout",
          "text": [
            "4\n",
            "[7 7 7 7]\n"
          ]
        }
      ]
    },
    {
      "cell_type": "markdown",
      "source": [
        "***Etiquetado de las carteras (8)***"
      ],
      "metadata": {
        "id": "ougQwn9bHILs"
      }
    },
    {
      "cell_type": "code",
      "source": [
        "etiquetas_carteras= np.repeat(8,carteras.shape[0])\n",
        "print(len(etiquetas_carteras))\n",
        "print(etiquetas_carteras)"
      ],
      "metadata": {
        "colab": {
          "base_uri": "https://localhost:8080/"
        },
        "id": "giTTZutYHKW8",
        "outputId": "e3e7c08d-1d65-4265-c71d-310a6b1ac2a7"
      },
      "execution_count": null,
      "outputs": [
        {
          "output_type": "stream",
          "name": "stdout",
          "text": [
            "3\n",
            "[8 8 8]\n"
          ]
        }
      ]
    },
    {
      "cell_type": "markdown",
      "source": [
        "***Etiquetado de las botas (9)***"
      ],
      "metadata": {
        "id": "DjgSmg9a422E"
      }
    },
    {
      "cell_type": "code",
      "source": [
        "etiquetas_botas= np.repeat(9,botas.shape[0])\n",
        "print(len(etiquetas_botas))\n",
        "print(etiquetas_botas)"
      ],
      "metadata": {
        "id": "WL8wGhKZNcfb",
        "colab": {
          "base_uri": "https://localhost:8080/"
        },
        "outputId": "01e26993-6238-4d9b-fefc-745fae4c4b87"
      },
      "execution_count": null,
      "outputs": [
        {
          "output_type": "stream",
          "name": "stdout",
          "text": [
            "3\n",
            "[9 9 9]\n"
          ]
        }
      ]
    },
    {
      "cell_type": "code",
      "source": [
        "class_names_img=['T-shirt/top', 'Trouser', 'Pullover', 'Dress', 'Coat',\n",
        "               'Sandal', 'Shirt', 'Sneaker', 'Bag', 'Ankle boot']"
      ],
      "metadata": {
        "id": "ucr9XelSWX44"
      },
      "execution_count": null,
      "outputs": []
    },
    {
      "cell_type": "markdown",
      "source": [
        "class_names = ['T-shirt/top', 'Trouser', 'Pullover', 'Dress', 'Coat',\n",
        "               'Sandal', 'Shirt', 'Sneaker', 'Bag', 'Ankle boot']"
      ],
      "metadata": {
        "id": "av24RUGe95em"
      }
    },
    {
      "cell_type": "code",
      "source": [
        "labels=np.concatenate([etiquetas_remeras, etiquetas_pantalones, etiquetas_pullovers ,etiquetas_vestidos, etiquetas_sacos, etiquetas_sandalias,\n",
        "                       etiquetas_camisas, etiquetas_zapatillas, etiquetas_carteras, etiquetas_botas ])\n",
        "print(len(labels))\n",
        "print(labels)\n",
        "Labels=np.array(labels)\n",
        "print(Labels.shape)"
      ],
      "metadata": {
        "colab": {
          "base_uri": "https://localhost:8080/"
        },
        "id": "c5tAoBC9Wr_X",
        "outputId": "70736c62-2dbf-4c4b-ff8a-c407e347200f"
      },
      "execution_count": null,
      "outputs": [
        {
          "output_type": "stream",
          "name": "stdout",
          "text": [
            "33\n",
            "[0 0 0 0 1 1 1 2 2 2 3 3 3 4 4 4 5 5 5 5 6 6 6 7 7 7 7 8 8 8 9 9 9]\n",
            "(33,)\n"
          ]
        }
      ]
    },
    {
      "cell_type": "code",
      "source": [
        "plt.figure(figsize=(10,10))\n",
        "for i in range(25):\n",
        "    plt.subplot(5,5,i+1)\n",
        "    plt.xticks([])\n",
        "    plt.yticks([])\n",
        "    plt.grid(False)\n",
        "    plt.imshow(imagenes[i], cmap='gray')\n",
        "    plt.xlabel(class_names_img[Labels[i]])\n",
        "    \n",
        "plt.show()"
      ],
      "metadata": {
        "colab": {
          "base_uri": "https://localhost:8080/",
          "height": 589
        },
        "id": "OVizc0lF4_tB",
        "outputId": "a17f5c31-4676-4dce-8c63-2cd041d98f87"
      },
      "execution_count": null,
      "outputs": [
        {
          "output_type": "display_data",
          "data": {
            "text/plain": [
              "<Figure size 720x720 with 25 Axes>"
            ],
            "image/png": "[encoded data removed]"
          },
          "metadata": {}
        }
      ]
    },
    {
      "cell_type": "code",
      "source": [
        "predictions_2 = model.predict(Imagenes)"
      ],
      "metadata": {
        "id": "H8HAjIzo7icb"
      },
      "execution_count": null,
      "outputs": []
    },
    {
      "cell_type": "code",
      "source": [
        "predictions_2[28]"
      ],
      "metadata": {
        "colab": {
          "base_uri": "https://localhost:8080/"
        },
        "id": "PCkWEhXX7pvy",
        "outputId": "fc19ec88-c732-426f-8c1a-c513f539abec"
      },
      "execution_count": null,
      "outputs": [
        {
          "output_type": "execute_result",
          "data": {
            "text/plain": [
              "array([7.27457238e-14, 1.23794364e-22, 5.46163761e-14, 1.58181510e-10,\n",
              "       7.77596547e-21, 6.69279248e-23, 1.13588855e-14, 1.99495944e-31,\n",
              "       1.00000000e+00, 8.90450728e-23], dtype=float32)"
            ]
          },
          "metadata": {},
          "execution_count": 571
        }
      ]
    },
    {
      "cell_type": "code",
      "source": [
        "pred_label = np.argmax(predictions_2[28])\n",
        "print(pred_label, \" [\", class_names[pred_label], \"]\", sep=\"\")"
      ],
      "metadata": {
        "colab": {
          "base_uri": "https://localhost:8080/"
        },
        "id": "aV1_NNMw76aa",
        "outputId": "56a5abd9-2091-42d8-d256-cefdc03f4331"
      },
      "execution_count": null,
      "outputs": [
        {
          "output_type": "stream",
          "name": "stdout",
          "text": [
            "8 [Bag]\n"
          ]
        }
      ]
    },
    {
      "cell_type": "markdown",
      "source": [
        "**Evaluación del accuracy**"
      ],
      "metadata": {
        "id": "iLq35T5oEl1a"
      }
    },
    {
      "cell_type": "code",
      "source": [
        "img_loss, img_acc = model.evaluate(Imagenes,  Labels, verbose=2)\n",
        "\n",
        "print('\\n accuracy:', img_acc) #Accuracy Muy bajo????????"
      ],
      "metadata": {
        "colab": {
          "base_uri": "https://localhost:8080/"
        },
        "id": "3fVyDyTXEpI6",
        "outputId": "c13e2427-c4af-4e19-be39-578e2a30db12"
      },
      "execution_count": null,
      "outputs": [
        {
          "output_type": "stream",
          "name": "stdout",
          "text": [
            "2/2 - 0s - loss: 31.6810 - accuracy: 0.1818 - 19ms/epoch - 10ms/step\n",
            "\n",
            " accuracy: 0.1818181872367859\n"
          ]
        }
      ]
    },
    {
      "cell_type": "code",
      "source": [
        "def plot_image(i, predictions_array, true_label, img):\n",
        "  predictions_array, true_label, img = predictions_array, true_label[i], img[i]\n",
        "  plt.grid(False)\n",
        "  plt.xticks([])\n",
        "  plt.yticks([])\n",
        "\n",
        "  plt.imshow(img, cmap=plt.cm.binary)\n",
        "\n",
        "  predicted_label = np.argmax(predictions_array)\n",
        "  if predicted_label == true_label:\n",
        "    color = 'blue'\n",
        "  else:\n",
        "    color = 'red'\n",
        "\n",
        "  plt.xlabel(\"{} {:2.0f}% ({})\".format(class_names[predicted_label],\n",
        "                                100*np.max(predictions_array),\n",
        "                                class_names_img[true_label]),\n",
        "                                color=color)\n",
        "\n",
        "def plot_value_array(i, predictions_array, true_label):\n",
        "  predictions_array, true_label = predictions_array, true_label[i]\n",
        "  plt.grid(False)\n",
        "  plt.xticks(range(10))\n",
        "  plt.yticks([])\n",
        "  thisplot = plt.bar(range(10), predictions_array, color=\"#777777\")\n",
        "  plt.ylim([0, 1])\n",
        "  predicted_label = np.argmax(predictions_array)\n",
        "  thisplot[predicted_label].set_color('red')\n",
        "  thisplot[true_label].set_color('blue')\n",
        "  #accuracy = model.evaluate(true_label, predicted_label)"
      ],
      "metadata": {
        "id": "3IoZqxjuJ2yb"
      },
      "execution_count": null,
      "outputs": []
    },
    {
      "cell_type": "code",
      "source": [
        "i = 28\n",
        "plt.figure(figsize=(6,3))\n",
        "plt.subplot(1,2,1)\n",
        "plot_image(i, predictions_2[i], Labels, Imagenes)\n",
        "plt.subplot(1,2,2)\n",
        "plot_value_array(i, predictions_2[i],  Labels)\n",
        "plt.show()"
      ],
      "metadata": {
        "id": "DU3ysu2OJ-3S",
        "colab": {
          "base_uri": "https://localhost:8080/",
          "height": 211
        },
        "outputId": "e762f5d9-0618-4de9-dc11-eecc6b8f1d11"
      },
      "execution_count": null,
      "outputs": [
        {
          "output_type": "display_data",
          "data": {
            "text/plain": [
              "<Figure size 432x216 with 2 Axes>"
            ],
            "image/png": "[encoded data removed]"
          },
          "metadata": {
            "needs_background": "light"
          }
        }
      ]
    },
    {
      "cell_type": "code",
      "source": [
        "# Plot the first X test images, their predicted labels, and the true labels.\n",
        "# Color correct predictions in blue and incorrect predictions in red.\n",
        "num_rows = 8\n",
        "num_cols = 4\n",
        "num_images = num_rows*num_cols\n",
        "plt.figure(figsize=(2*2*num_cols, 2*num_rows))\n",
        "for i in range(num_images):\n",
        "  plt.subplot(num_rows, 2*num_cols, 2*i+1)\n",
        "  plot_image(i, predictions_2[i], Labels, imagenes)\n",
        "  plt.subplot(num_rows, 2*num_cols, 2*i+2)\n",
        "  plot_value_array(i, predictions_2[i], Labels)\n",
        "plt.tight_layout()\n",
        "plt.show()"
      ],
      "metadata": {
        "colab": {
          "base_uri": "https://localhost:8080/",
          "height": 1000
        },
        "id": "QLy2SN8kFw3z",
        "outputId": "ee539d8e-8d87-4fcf-e8ca-bd1195802a1f"
      },
      "execution_count": null,
      "outputs": [
        {
          "output_type": "display_data",
          "data": {
            "text/plain": [
              "<Figure size 1152x1152 with 64 Axes>"
            ],
            "image/png": "[encoded data removed]"
          },
          "metadata": {
            "needs_background": "light"
          }
        }
      ]
    },
    {
      "cell_type": "markdown",
      "metadata": {
        "id": "fMv1VZqcUWGQ"
      },
      "source": [
        "## **EJERCICIO 1.2 (OPCIONAL)**: entrenar la red para resolver un nuevo problema\n",
        "\n",
        "Realice una búsqueda en internet para relevar dataset similares al propuesto en este lab. Elija un dataset arbitario y con este vuelva a realizar el proceso de completo para entrenar una ANN como clasificador de imágenes sobre el nuevo dateset\n",
        "\n",
        "TIP: dejo dos links para facilitar la búsqueda\n",
        "- https://en.wikipedia.org/wiki/List_of_datasets_for_machine-learning_research\n",
        "- https://en.wikipedia.org/wiki/Caltech_101\n"
      ]
    },
    {
      "cell_type": "code",
      "metadata": {
        "id": "T1f36lnOV-RB"
      },
      "source": [
        "# EJERCICIO 1.2 (OPCIONAL)\n",
        "# ..."
      ],
      "execution_count": null,
      "outputs": []
    }
  ]
}